{
 "cells": [
  {
   "cell_type": "markdown",
   "metadata": {},
   "source": [
    "# 混合正規分布のEMアルゴリズムによるパラメータ推定\n",
    "混合正規分布に従ってサンプリングされる標本より，分布のパラメータを推定する  \n",
    "$$ p(x) = \\sum_{i} \\pi_iN\\left(x\\ |\\mu_i, \\sigma^2_i \\right) $$"
   ]
  },
  {
   "cell_type": "code",
   "execution_count": 1,
   "metadata": {
    "collapsed": true
   },
   "outputs": [],
   "source": [
    "import numpy as np\n",
    "import pandas as pd\n",
    "import matplotlib.pyplot as plt\n",
    "%matplotlib inline"
   ]
  },
  {
   "cell_type": "markdown",
   "metadata": {},
   "source": [
    "#### 必要な奴らの定義"
   ]
  },
  {
   "cell_type": "code",
   "execution_count": 2,
   "metadata": {
    "collapsed": true
   },
   "outputs": [],
   "source": [
    "def gauss_func(mu, sig):\n",
    "    \"\"\"\n",
    "    正規分布(1次元)の確率密度関数の作成\n",
    "    mu: 平均\n",
    "    sig: 分散\n",
    "    \n",
    "    return: func(x)\n",
    "    \"\"\"\n",
    "    def func(x):\n",
    "        y = np.exp(-(x-mu)**2/(2*sig)) / (np.sqrt(2*np.pi*sig))\n",
    "        return y\n",
    "    return func\n",
    "\n",
    "def samplingMixGauss(mu, sig, N):\n",
    "    \"\"\"\n",
    "    混合正規分布に従うサンプリング？\n",
    "    mu: 平均のリスト\n",
    "    sig: 分散のリスト\n",
    "    N: サンプリング数のリスト\n",
    "    \n",
    "    return: サンプル\n",
    "    \"\"\"\n",
    "    X = []\n",
    "    for m,s,n in zip(mu,sig,N):\n",
    "        X = X + np.random.normal(m,s,n).tolist()\n",
    "    return np.array(X)"
   ]
  },
  {
   "cell_type": "code",
   "execution_count": 3,
   "metadata": {
    "collapsed": true
   },
   "outputs": [],
   "source": [
    "def E_Step(mu,sig,W,sample):\n",
    "    \"\"\"\n",
    "    Eステップ処理\n",
    "    mu: 平均のリスト\n",
    "    sig: 分散のリスト\n",
    "    W: 重みのリスト\n",
    "    sample: サンプリング集合\n",
    "    \n",
    "    return: 負担率\n",
    "    \"\"\"\n",
    "    k = len(mu)\n",
    "    n = len(sample)\n",
    "    gm = np.zeros((k, n))\n",
    "    for i,(m,s,w) in enumerate(zip(mu,sig,W)):\n",
    "        gm[i,:] = w*(gauss_func(m,s))(sample)\n",
    "    return gm/gm.sum(axis=0)\n",
    "\n",
    "def M_Step(gm,sample):\n",
    "    \"\"\"\n",
    "    Mステップ処理\n",
    "    gm: 負担率のリスト\n",
    "    sample: サンプリング集合\n",
    "    \n",
    "    return; 平均，分散，重み\n",
    "    \"\"\"\n",
    "    k = len(gm)\n",
    "    N = len(sample)\n",
    "    Mu, Sig, W = np.zeros(k), np.zeros(k), np.zeros(k)\n",
    "    for i, g in enumerate(gm):\n",
    "        Nk = g.sum()\n",
    "        Mu[i] = (g*sample).sum() / Nk\n",
    "        Sig[i] = (g*((sample-Mu[i])**2)).sum() / Nk\n",
    "        W[i] = Nk / N\n",
    "    return (Mu, Sig, W)"
   ]
  },
  {
   "cell_type": "markdown",
   "metadata": {},
   "source": [
    "### 真のパラメータ"
   ]
  },
  {
   "cell_type": "code",
   "execution_count": 94,
   "metadata": {
    "collapsed": true
   },
   "outputs": [],
   "source": [
    "W = np.array([0.1, 0.5, 0.4])\n",
    "Mu = np.array([-6., 1, 5])\n",
    "Sig = np.array([1, 1, 1.5])"
   ]
  },
  {
   "cell_type": "markdown",
   "metadata": {},
   "source": [
    "### サンプリング"
   ]
  },
  {
   "cell_type": "code",
   "execution_count": 95,
   "metadata": {
    "collapsed": true
   },
   "outputs": [],
   "source": [
    "x_min, x_max, n = -10, 10, 100\n",
    "s_n = 10000"
   ]
  },
  {
   "cell_type": "code",
   "execution_count": 96,
   "metadata": {
    "collapsed": false
   },
   "outputs": [
    {
     "data": {
      "text/plain": [
       "[<matplotlib.lines.Line2D at 0x248e90c4c50>]"
      ]
     },
     "execution_count": 96,
     "metadata": {},
     "output_type": "execute_result"
    },
    {
     "data": {
      "image/png": "[encoded data removed]",
      "text/plain": [
       "<matplotlib.figure.Figure at 0x248e90c4d68>"
      ]
     },
     "metadata": {},
     "output_type": "display_data"
    }
   ],
   "source": [
    "s = samplingMixGauss(Mu,Sig,[int(w*s_n) for w in W])\n",
    "_=plt.hist(s, bins=np.linspace(x_min, x_max, 100),normed=True)\n",
    "x = np.linspace(x_min, x_max, n)\n",
    "y = np.array([w*(gauss_func(m,s))(x) for w,m,s in zip(W,Mu,Sig)]).sum(axis=0)\n",
    "plt.plot(x, y)"
   ]
  },
  {
   "cell_type": "markdown",
   "metadata": {},
   "source": [
    "### モデルのパラメータ"
   ]
  },
  {
   "cell_type": "code",
   "execution_count": 7,
   "metadata": {
    "collapsed": true
   },
   "outputs": [],
   "source": [
    "k = 3"
   ]
  },
  {
   "cell_type": "code",
   "execution_count": 8,
   "metadata": {
    "collapsed": true
   },
   "outputs": [],
   "source": [
    "W_model = np.random.uniform(size=k)/k\n",
    "Mu_model = np.random.uniform(-5, 5, size=k)\n",
    "Sig_model = np.random.uniform(0.1, 2, size=k)\n",
    "#Mu_model = np.array([-3, 0, 3])\n",
    "#Sig_model = np.array([1,1,1])\n",
    "#W_model = np.array([1/3,1/3,1/3])"
   ]
  },
  {
   "cell_type": "markdown",
   "metadata": {},
   "source": [
    "## Eステップ\n",
    "負担率のプロット"
   ]
  },
  {
   "cell_type": "code",
   "execution_count": 9,
   "metadata": {
    "collapsed": false
   },
   "outputs": [],
   "source": [
    "gm = E_Step(Mu_model,Sig_model,W_model,s)"
   ]
  },
  {
   "cell_type": "code",
   "execution_count": 10,
   "metadata": {
    "collapsed": false
   },
   "outputs": [
    {
     "data": {
      "image/png": "[encoded data removed]",
      "text/plain": [
       "<matplotlib.figure.Figure at 0x2d1855a0240>"
      ]
     },
     "metadata": {},
     "output_type": "display_data"
    }
   ],
   "source": [
    "for i in range(k):\n",
    "    plt.plot(s, gm[i,:], \".\")\n",
    "_=plt.hist(s, bins=np.linspace(x_min, x_max, 100),normed=True)"
   ]
  },
  {
   "cell_type": "markdown",
   "metadata": {},
   "source": [
    "### Mステップ\n",
    "推定値モデルをプロット"
   ]
  },
  {
   "cell_type": "code",
   "execution_count": 11,
   "metadata": {
    "collapsed": false
   },
   "outputs": [],
   "source": [
    "Mu_model,Sig_model,W_model = M_Step(gm,s)"
   ]
  },
  {
   "cell_type": "code",
   "execution_count": 12,
   "metadata": {
    "collapsed": false
   },
   "outputs": [
    {
     "data": {
      "text/plain": [
       "[<matplotlib.lines.Line2D at 0x2d1855a0630>]"
      ]
     },
     "execution_count": 12,
     "metadata": {},
     "output_type": "execute_result"
    },
    {
     "data": {
      "image/png": "[encoded data removed]",
      "text/plain": [
       "<matplotlib.figure.Figure at 0x2d1855a07b8>"
      ]
     },
     "metadata": {},
     "output_type": "display_data"
    }
   ],
   "source": [
    "_=plt.hist(s, bins=np.linspace(x_min, x_max, 100),normed=True)\n",
    "x = np.linspace(x_min, x_max, 100)\n",
    "y = np.array([w*(gauss_func(m,s))(x) for w,m,s in zip(W_model,Mu_model,Sig_model)]).sum(axis=0)\n",
    "plt.plot(x, y)"
   ]
  },
  {
   "cell_type": "markdown",
   "metadata": {},
   "source": [
    "## Eステップ → Mステップの繰り返し"
   ]
  },
  {
   "cell_type": "code",
   "execution_count": 26,
   "metadata": {
    "collapsed": true
   },
   "outputs": [],
   "source": [
    "step = 100"
   ]
  },
  {
   "cell_type": "code",
   "execution_count": 31,
   "metadata": {
    "collapsed": false
   },
   "outputs": [],
   "source": [
    "for i in range(step):\n",
    "    gm = E_Step(Mu_model,Sig_model,W_model,s)\n",
    "    Mu_model,Sig_model,W_model = M_Step(gm,s)"
   ]
  },
  {
   "cell_type": "code",
   "execution_count": 32,
   "metadata": {
    "collapsed": false
   },
   "outputs": [
    {
     "data": {
      "image/png": "[encoded data removed]",
      "text/plain": [
       "<matplotlib.figure.Figure at 0x2d1865217b8>"
      ]
     },
     "metadata": {},
     "output_type": "display_data"
    }
   ],
   "source": [
    "plt.subplot(211)\n",
    "_=plt.hist(s, bins=np.linspace(x_min, x_max, 100),normed=True)\n",
    "x = np.linspace(x_min, x_max, n)\n",
    "y = np.array([w*(gauss_func(m,s))(x) for w,m,s in zip(W_model,Mu_model,Sig_model)]).sum(axis=0)\n",
    "plt.plot(x, y)\n",
    "\n",
    "plt.subplot(212)\n",
    "for i in range(k):\n",
    "    plt.plot(s, gm[i,:], \"x\")\n",
    "_=plt.hist(s, bins=np.linspace(x_min, x_max, 100),normed=True)"
   ]
  },
  {
   "cell_type": "markdown",
   "metadata": {},
   "source": [
    "### パラメータの真値"
   ]
  },
  {
   "cell_type": "code",
   "execution_count": 16,
   "metadata": {
    "collapsed": false
   },
   "outputs": [
    {
     "data": {
      "text/html": [
       "<div>\n",
       "<table border=\"1\" class=\"dataframe\">\n",
       "  <thead>\n",
       "    <tr style=\"text-align: right;\">\n",
       "      <th></th>\n",
       "      <th>重み</th>\n",
       "      <th>平均</th>\n",
       "      <th>分散</th>\n",
       "    </tr>\n",
       "  </thead>\n",
       "  <tbody>\n",
       "    <tr>\n",
       "      <th>0</th>\n",
       "      <td>0.1</td>\n",
       "      <td>-6.0</td>\n",
       "      <td>1.0</td>\n",
       "    </tr>\n",
       "    <tr>\n",
       "      <th>2</th>\n",
       "      <td>0.4</td>\n",
       "      <td>5.0</td>\n",
       "      <td>1.5</td>\n",
       "    </tr>\n",
       "    <tr>\n",
       "      <th>1</th>\n",
       "      <td>0.5</td>\n",
       "      <td>1.0</td>\n",
       "      <td>1.0</td>\n",
       "    </tr>\n",
       "  </tbody>\n",
       "</table>\n",
       "</div>"
      ],
      "text/plain": [
       "    重み   平均   分散\n",
       "0  0.1 -6.0  1.0\n",
       "2  0.4  5.0  1.5\n",
       "1  0.5  1.0  1.0"
      ]
     },
     "execution_count": 16,
     "metadata": {},
     "output_type": "execute_result"
    }
   ],
   "source": [
    "df = pd.DataFrame([(w,m,s) for w,m,s in zip(W,Mu,Sig)], columns=[\"重み\", \"平均\", \"分散\"])\n",
    "df.sort_values(by=\"重み\")"
   ]
  },
  {
   "cell_type": "markdown",
   "metadata": {},
   "source": [
    "### パラメータの推定値"
   ]
  },
  {
   "cell_type": "code",
   "execution_count": 17,
   "metadata": {
    "collapsed": false
   },
   "outputs": [
    {
     "data": {
      "text/html": [
       "<div>\n",
       "<table border=\"1\" class=\"dataframe\">\n",
       "  <thead>\n",
       "    <tr style=\"text-align: right;\">\n",
       "      <th></th>\n",
       "      <th>重み</th>\n",
       "      <th>平均</th>\n",
       "      <th>分散</th>\n",
       "    </tr>\n",
       "  </thead>\n",
       "  <tbody>\n",
       "    <tr>\n",
       "      <th>0</th>\n",
       "      <td>0.036987</td>\n",
       "      <td>0.183480</td>\n",
       "      <td>22.213992</td>\n",
       "    </tr>\n",
       "    <tr>\n",
       "      <th>1</th>\n",
       "      <td>0.087559</td>\n",
       "      <td>-5.960415</td>\n",
       "      <td>0.791935</td>\n",
       "    </tr>\n",
       "    <tr>\n",
       "      <th>2</th>\n",
       "      <td>0.875454</td>\n",
       "      <td>2.736248</td>\n",
       "      <td>5.229873</td>\n",
       "    </tr>\n",
       "  </tbody>\n",
       "</table>\n",
       "</div>"
      ],
      "text/plain": [
       "         重み        平均         分散\n",
       "0  0.036987  0.183480  22.213992\n",
       "1  0.087559 -5.960415   0.791935\n",
       "2  0.875454  2.736248   5.229873"
      ]
     },
     "execution_count": 17,
     "metadata": {},
     "output_type": "execute_result"
    }
   ],
   "source": [
    "df = pd.DataFrame([(w,m,s) for w,m,s in zip(W_model,Mu_model,Sig_model)], columns=[\"重み\", \"平均\", \"分散\"])\n",
    "df.sort_values(by=\"重み\")"
   ]
  }
 ],
 "metadata": {
  "kernelspec": {
   "display_name": "Python 3",
   "language": "python",
   "name": "python3"
  },
  "language_info": {
   "codemirror_mode": {
    "name": "ipython",
    "version": 3
   },
   "file_extension": ".py",
   "mimetype": "text/x-python",
   "name": "python",
   "nbconvert_exporter": "python",
   "pygments_lexer": "ipython3",
   "version": "3.6.0"
  }
 },
 "nbformat": 4,
 "nbformat_minor": 2
}
