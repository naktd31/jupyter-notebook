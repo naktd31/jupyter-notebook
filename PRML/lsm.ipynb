{
 "cells": [
  {
   "cell_type": "markdown",
   "metadata": {
    "deletable": true,
    "editable": true
   },
   "source": [
    "# 最小二乗法サンプル\n",
    "\n",
    "ランダムなデータを直線で近似する。\n",
    "$$y = ax+b$$\n",
    "\n",
    "以下の$E(x_i, y_i)$が最小になるように計算する\n",
    "$$E(x_i, y_i) = \\sum_{i=1}^N\\frac{1}{2}\\bigl(y_i - (ax_i+b)\\bigr)^2$$\n",
    "\n",
    "$a, b$について偏微分すると,\n",
    "$$\\frac{\\partial E}{\\partial a} = \\sum_{i=1}^N\\bigl(y_i - (ax_i+b)\\bigr)(-x_i)$$\n",
    "$$\\frac{\\partial E}{\\partial b} = \\sum_{i=1}^N\\bigl(y_i - (ax_i+b)\\bigr)(-1)$$\n",
    "\n",
    "ここで、\n",
    "$$\\frac{\\partial E}{\\partial a} = 0$$\n",
    "\n",
    "$$\\frac{\\partial E}{\\partial b} = 0$$\n",
    "となるとき、$E(x_i, y_i)$は最小となるので\n",
    "\n",
    "$$\\Bigl(\\sum_{i=1}^Nx_i^2\\Bigr)a + \\Bigl(\\sum_{i=1}^Nx_i\\Bigr)b = \\sum_{i=1}^Ny_ix_i$$\n",
    "$$\\Bigl(\\sum_{i=1}^Nx_i\\Bigr)a + \\Bigl(\\sum_{i=1}^N1\\Bigr)b = \\sum_{i=1}^Ny_i$$\n",
    "\n",
    "これを行列表記で表すと\n",
    "$$\n",
    "\\begin{pmatrix}\n",
    "\\sum_{i=1}^Nx_i^2 & \\sum_{i=1}^Nx_i \\\\\n",
    "\\sum_{i=1}^Nx_i & \\sum_{i=1}^N1\\\\\n",
    "\\end{pmatrix}\n",
    "\\begin{pmatrix}\n",
    "a \\\\\n",
    "b \\\\\n",
    "\\end{pmatrix}=\n",
    "\\begin{pmatrix}\n",
    "\\sum_{i=1}^Ny_ix_i \\\\\n",
    "\\sum_{i=1}^Ny_i \\\\\n",
    "\\end{pmatrix}\n",
    "$$\n",
    "\n",
    "よって、\n",
    "$$\n",
    "\\begin{pmatrix}\n",
    "a \\\\\n",
    "b \\\\\n",
    "\\end{pmatrix}=\n",
    "\\begin{pmatrix}\n",
    "\\sum_{i=1}^Nx_i^2 & \\sum_{i=1}^Nx_i \\\\\n",
    "\\sum_{i=1}^Nx_i & \\sum_{i=1}^N1\\\\\n",
    "\\end{pmatrix}^{-1}\n",
    "\\begin{pmatrix}\n",
    "\\sum_{i=1}^Ny_ix_i \\\\\n",
    "\\sum_{i=1}^Ny_i \\\\\n",
    "\\end{pmatrix}\n",
    "$$"
   ]
  },
  {
   "cell_type": "markdown",
   "metadata": {
    "deletable": true,
    "editable": true
   },
   "source": [
    "## これを計算するプログラムを以下に示す"
   ]
  },
  {
   "cell_type": "code",
   "execution_count": 1,
   "metadata": {
    "collapsed": true,
    "deletable": true,
    "editable": true
   },
   "outputs": [],
   "source": [
    "%matplotlib inline\n",
    "import numpy as np\n",
    "import matplotlib.pyplot as plt"
   ]
  },
  {
   "cell_type": "markdown",
   "metadata": {
    "deletable": true,
    "editable": true
   },
   "source": [
    "サンプルデータの作成"
   ]
  },
  {
   "cell_type": "code",
   "execution_count": 2,
   "metadata": {
    "collapsed": true,
    "deletable": true,
    "editable": true
   },
   "outputs": [],
   "source": [
    "x = np.linspace(-5, 5, 100)\n",
    "a = 3.0; b = 1.0;\n",
    "noise = np.random.normal(0, 10, 100)\n",
    "y = (a*x + b) + noise"
   ]
  },
  {
   "cell_type": "markdown",
   "metadata": {
    "deletable": true,
    "editable": true
   },
   "source": [
    "$a, b$ の係数行列を求める"
   ]
  },
  {
   "cell_type": "code",
   "execution_count": 3,
   "metadata": {
    "collapsed": false,
    "deletable": true,
    "editable": true
   },
   "outputs": [],
   "source": [
    "W = np.zeros((2, 3))\n",
    "W[0, 0] = (x*x).sum()\n",
    "W[1, 0] = x.sum()\n",
    "W[0, 1] = x.sum()\n",
    "W[1, 1] = len(x)\n",
    "W[0, 2] = (y * x).sum()\n",
    "W[1, 2] = y.sum()\n",
    "inv_W = np.linalg.inv(W[:, 0:2])\n",
    "lin = inv_W.dot(W[:, 2:3])"
   ]
  },
  {
   "cell_type": "markdown",
   "metadata": {
    "deletable": true,
    "editable": true
   },
   "source": [
    "結果をプロットする"
   ]
  },
  {
   "cell_type": "code",
   "execution_count": 6,
   "metadata": {
    "collapsed": false,
    "deletable": true,
    "editable": true
   },
   "outputs": [
    {
     "data": {
      "image/png": "[encoded data removed]",
      "text/plain": [
       "<matplotlib.figure.Figure at 0x7f4bf0a39630>"
      ]
     },
     "metadata": {},
     "output_type": "display_data"
    },
    {
     "name": "stdout",
     "output_type": "stream",
     "text": [
      "True(red) : y = 3x + 1\n",
      "Esti(blue): y = 2.862211x + 2.212838\n"
     ]
    }
   ],
   "source": [
    "plt.plot(x, y, \"gx\")\n",
    "plt.plot(x, lin[0]*x+lin[1], \"r-\")\n",
    "plt.plot(x, a*x+b, \"b-\")\n",
    "plt.show()\n",
    "print(\"True(red) : y = %dx + %d\" %(a, b))\n",
    "print(\"Esti(blue): y = %fx + %f\" %(lin[0], lin[1]))"
   ]
  }
 ],
 "metadata": {
  "kernelspec": {
   "display_name": "Python 3",
   "language": "python",
   "name": "python3"
  },
  "language_info": {
   "codemirror_mode": {
    "name": "ipython",
    "version": 3
   },
   "file_extension": ".py",
   "mimetype": "text/x-python",
   "name": "python",
   "nbconvert_exporter": "python",
   "pygments_lexer": "ipython3",
   "version": "3.4.3"
  }
 },
 "nbformat": 4,
 "nbformat_minor": 2
}
