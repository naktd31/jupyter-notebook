{
 "cells": [
  {
   "cell_type": "code",
   "execution_count": 1,
   "metadata": {
    "collapsed": true
   },
   "outputs": [],
   "source": [
    "# 遺伝的アルゴリズムの実装\n",
    "# 巡回セールスマン問題を解いてみる"
   ]
  },
  {
   "cell_type": "code",
   "execution_count": 5,
   "metadata": {
    "collapsed": true
   },
   "outputs": [],
   "source": [
    "import numpy as np\n",
    "import matplotlib.animation as animation\n",
    "import matplotlib.pyplot as plt\n",
    "%matplotlib inline"
   ]
  },
  {
   "cell_type": "code",
   "execution_count": 88,
   "metadata": {},
   "outputs": [
    {
     "name": "stdout",
     "output_type": "stream",
     "text": [
      "[(1, 2, 3), (1, 3, 2), (2, 1, 3), (2, 3, 1), (3, 1, 2), (3, 2, 1)] 6\n"
     ]
    }
   ],
   "source": [
    "def perm_circle(n):\n",
    "    perm = []\n",
    "    #print(perm)\n",
    "    \n",
    "    def sub(l, m):\n",
    "        if m == n:\n",
    "            perm.append(l)\n",
    "        else:\n",
    "            p = tuple(l)\n",
    "            sub_l = [i+1 for i in range(n) if not i+1 in p]\n",
    "            for i in sub_l:\n",
    "                p = tuple(l) + (i, )\n",
    "                sub(p, m+1)\n",
    "    sub([], 0)\n",
    "    return perm\n",
    "    \n",
    "perm = perm_circle(3)\n",
    "print(perm, len(perm))"
   ]
  },
  {
   "cell_type": "code",
   "execution_count": 3,
   "metadata": {},
   "outputs": [
    {
     "data": {
      "image/png": "[encoded data removed]",
      "text/plain": [
       "<matplotlib.figure.Figure at 0x171bd9ef080>"
      ]
     },
     "metadata": {},
     "output_type": "display_data"
    }
   ],
   "source": [
    "class SalesmanProblem(object):\n",
    "    city_pt = None\n",
    "    city_n = 10\n",
    "    \n",
    "    def __init__(self):\n",
    "        n = SalesmanProblem.city_n\n",
    "        self.permutation = np.random.choice([i for i in range(n)], size=n, replace=False)\n",
    "        self.evaluation = np.Inf\n",
    "        \n",
    "    def getCityNum():\n",
    "        return SalesmanProblem.city_n\n",
    "    \n",
    "    def setCityNum(n):\n",
    "        SalesmanProblem.city_n = n\n",
    "        SalesmanProblem.resetCityPosition()\n",
    "        \n",
    "    def resetCityPosition():\n",
    "        n = SalesmanProblem.city_n\n",
    "        SalesmanProblem.city_pt = np.random.uniform(-10, 10, (n, 2))\n",
    "        \n",
    "    def getPermutation(self):\n",
    "        return self.permutation\n",
    "    \n",
    "    def setPermutation(self, perm):\n",
    "        if perm.shape == self.permutation.shape:\n",
    "            self.permutation = perm\n",
    "        else:\n",
    "            print(\"not much shape of permutation!\")\n",
    "    \n",
    "    def evaluate(self):\n",
    "        p1, p2, e = 0, 0, 0\n",
    "        for j, i in enumerate(self.permutation):\n",
    "            if j == 0:\n",
    "                p1 = self.city_pt[i]\n",
    "            else:\n",
    "                p2 = p1\n",
    "                p1 = self.city_pt[i]\n",
    "                d = np.linalg.norm(p1 - p2)\n",
    "                e += d\n",
    "                \n",
    "        self.evaluation = e\n",
    "        return e\n",
    "    \n",
    "    def plotRoute(self):\n",
    "        permute_pt = np.array([self.city_pt[i] for i in self.permutation])\n",
    "        permute_pt = np.concatenate([permute_pt,permute_pt[0:1]])\n",
    "\n",
    "        plt.clf()\n",
    "        #plt.subplot(121)\n",
    "        plt.plot(permute_pt[:,0], permute_pt[:,1], \"rx-\")\n",
    "        #plt.subplot(122)\n",
    "        #plt.plot(permute_pt[:,0], permute_pt[:,1], \"rx\")\n",
    "        # print(self.evaluate())\n",
    "    \n",
    "sp = [SalesmanProblem() for i in range(5)]\n",
    "SalesmanProblem.resetCityPosition()\n",
    "for s in sp:\n",
    "    s.plotRoute()"
   ]
  },
  {
   "cell_type": "code",
   "execution_count": 152,
   "metadata": {
    "collapsed": true
   },
   "outputs": [],
   "source": [
    "class GeneticAlgorithm(object):\n",
    "    def __init__(self, n = 10, m=10):\n",
    "        self.n = n\n",
    "        self.generation = 0\n",
    "        SalesmanProblem.setCityNum(m)\n",
    "        SalesmanProblem.resetCityPosition()\n",
    "        self.current_generation = [SalesmanProblem() for i in range(n)]\n",
    "        self.next_generation = []\n",
    "        self.evaluation = None\n",
    "        self.evaluate()\n",
    "        \n",
    "    def encode(self, x):\n",
    "        pass\n",
    "    \n",
    "    def decode(self, y):\n",
    "        pass\n",
    "    \n",
    "    def getGeneration(self):\n",
    "        return self.generation \n",
    "    \n",
    "    def evaluate(self):\n",
    "        evaluation = np.array([1/sp.evaluate() for sp in self.current_generation])\n",
    "        self.evaluation = evaluation\n",
    "        return evaluation\n",
    "    \n",
    "    def checkGeneration(self):\n",
    "        if self.n == len(self.next_generation):\n",
    "            self.generation += 1\n",
    "            \n",
    "            group = self.current_generation + self.next_generation\n",
    "            evaluation = [(1/sp.evaluate(), sp) for sp in group]\n",
    "            evaluation = sorted(evaluation, key=lambda x:x[0], reverse=True)\n",
    "            \n",
    "            self.current_generation = [sp for e, sp in evaluation][:self.n]\n",
    "            self.next_generation = []\n",
    "            self.evaluate()\n",
    "            \n",
    "            print(np.max(self.evaluation))\n",
    "            self.getBestIndividual().plotRoute()\n",
    "    \n",
    "    def selectIndividual(self, n=1):\n",
    "        p = self.evaluation\n",
    "        p /= p.sum()\n",
    "        index = np.random.choice([i for i in range(self.n)], n, False, p)\n",
    "        return [self.current_generation[i] for i in index]\n",
    "    \n",
    "    def getBestIndividual(self):\n",
    "        return self.current_generation[self.evaluation.argmax()]\n",
    "    \n",
    "    def clossover(self, swap_n=2):\n",
    "        i = self.selectIndividual(2)\n",
    "        \n",
    "        n = SalesmanProblem.getCityNum()\n",
    "        swap = np.random.choice([j for j in range(n)], swap_n, False)\n",
    "        no_swap = np.array([j for j in range(n) if not j in swap])\n",
    "        \n",
    "        choice = np.sort(np.array([1/j.evaluate() for j in i]))[::-1]\n",
    "        choice = choice.astype(np.int)\n",
    "        p1 = i[choice[0]].getPermutation()\n",
    "        p2 = i[choice[1]].getPermutation()\n",
    "        \n",
    "        perm = -np.ones(n)\n",
    "        perm[swap] = p2[swap]\n",
    "        perm[no_swap] = np.array([p for p in p1 if not p in perm])\n",
    "        perm = perm.astype(np.int)\n",
    "        \n",
    "        p = SalesmanProblem()\n",
    "        p.setPermutation(perm)\n",
    "        self.next_generation.append(p)\n",
    "\n",
    "    def copy(self):\n",
    "        i, = self.selectIndividual()\n",
    "        self.next_generation.append(i)\n",
    "        \n",
    "    def mutation(self):\n",
    "        i, = self.selectIndividual()\n",
    "        \n",
    "        n = SalesmanProblem.getCityNum()\n",
    "        for k in range(2):\n",
    "            swap = np.random.choice([j for j in range(n)], 2, False)\n",
    "            perm = i.getPermutation()\n",
    "            x,y = perm[swap]\n",
    "            perm[swap] = np.array([y,x])\n",
    "            \n",
    "        i.setPermutation(perm)\n",
    "        self.next_generation.append(i)\n",
    "    \n",
    "    def selectAction(self, p=[0.85, 0.10, 0.05]):\n",
    "        s = np.random.choice([0,1,2], 1, p=p)\n",
    "        if s == 0: self.clossover()\n",
    "        elif s == 1: self.copy()\n",
    "        elif s == 2: self.mutation()\n",
    "            \n",
    "ga = GeneticAlgorithm(50, 20)"
   ]
  },
  {
   "cell_type": "code",
   "execution_count": 153,
   "metadata": {
    "collapsed": true
   },
   "outputs": [],
   "source": [
    "def plot(data):\n",
    "    for i in range(0):\n",
    "        ga.checkGeneration()\n",
    "        ga.selectAction()"
   ]
  },
  {
   "cell_type": "code",
   "execution_count": 154,
   "metadata": {
    "collapsed": true
   },
   "outputs": [],
   "source": [
    "plot(0)"
   ]
  },
  {
   "cell_type": "code",
   "execution_count": 151,
   "metadata": {},
   "outputs": [
    {
     "name": "stdout",
     "output_type": "stream",
     "text": [
      "0.0071421101466536486\n",
      "0.0071421101466536486\n",
      "0.0071421101466536486\n",
      "0.0071421101466536486\n",
      "0.0071421101466536486\n",
      "0.007945386846478138\n",
      "0.007945386846478138\n",
      "0.007945386846478138\n",
      "0.007945386846478138\n",
      "0.007945386846478138\n",
      "0.008431666067595874\n",
      "0.008431666067595874\n"
     ]
    },
    {
     "data": {
      "image/png": "[encoded data removed]",
      "text/plain": [
       "<matplotlib.figure.Figure at 0x7f081f301358>"
      ]
     },
     "metadata": {},
     "output_type": "display_data"
    }
   ],
   "source": [
    "fig = plt.figure()\n",
    "ani = animation.FuncAnimation(fig, plot, interval=100, frames=10)\n",
    "ani.save(\"output.gif\", writer=\"imagemagick\")"
   ]
  },
  {
   "cell_type": "code",
   "execution_count": 133,
   "metadata": {},
   "outputs": [
    {
     "data": {
      "text/plain": [
       "[9, 9, 7, 6, 4, 4, 4, 3, 3, 2]"
      ]
     },
     "execution_count": 133,
     "metadata": {},
     "output_type": "execute_result"
    }
   ],
   "source": [
    "sorted([i for i in np.random.randint(0, 10, 10)], reverse=True)"
   ]
  }
 ],
 "metadata": {
  "kernelspec": {
   "display_name": "Python 3",
   "language": "python",
   "name": "python3"
  },
  "language_info": {
   "codemirror_mode": {
    "name": "ipython",
    "version": 3
   },
   "file_extension": ".py",
   "mimetype": "text/x-python",
   "name": "python",
   "nbconvert_exporter": "python",
   "pygments_lexer": "ipython3",
   "version": "3.6.4"
  }
 },
 "nbformat": 4,
 "nbformat_minor": 2
}
