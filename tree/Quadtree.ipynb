{
 "cells": [
  {
   "cell_type": "markdown",
   "metadata": {
    "deletable": true,
    "editable": true
   },
   "source": [
    "# 二分木（binary tree)\n",
    "四分木（しぶんぎ、英: Quadtree）は、各内部ノードが4個までの子ノードを持つ木構造のデータ構造である。四分木は主に、2次元空間を再帰的に4つの象限または領域に分割するのに使われる。領域は四角形または矩形の場合もあるし、任意の形状の場合もある。([Wikipedia](https://ja.wikipedia.org/wiki/%E5%9B%9B%E5%88%86%E6%9C%A8))\n",
    "\n",
    "![画像がないよ](https://upload.wikimedia.org/wikipedia/commons/8/8b/Point_quadtree.svg)"
   ]
  },
  {
   "cell_type": "code",
   "execution_count": 3,
   "metadata": {
    "collapsed": true,
    "deletable": true,
    "editable": true
   },
   "outputs": [],
   "source": [
    "from graphviz import Digraph\n",
    "import numpy as np\n",
    "import random\n",
    "import copy\n",
    "import matplotlib.pyplot as plt\n",
    "import itertools\n",
    "%matplotlib inline"
   ]
  },
  {
   "cell_type": "code",
   "execution_count": 4,
   "metadata": {
    "collapsed": false,
    "deletable": true,
    "editable": true
   },
   "outputs": [],
   "source": [
    "class QuadTree():\n",
    "    nodes = Digraph(format=\"png\")\n",
    "    nodes.attr(\"node\", shape=\"circle\")\n",
    "    nodes.attr(\"graph\", ordering=\"out\")\n",
    "    depth = 0\n",
    "    \n",
    "    @classmethod\n",
    "    def clearGraph(cls):\n",
    "        \"\"\"\n",
    "        グラフの初期化\n",
    "        \"\"\"\n",
    "        cls.nodes = Digraph(format=\"png\")\n",
    "        cls.nodes.attr(\"node\", shape=\"circle\")\n",
    "        cls.nodes.attr(\"graph\", ordering=\"out\")\n",
    "        cls.depth = 0\n",
    "    \n",
    "    def __init__(self, point, width, d = 0):\n",
    "        self.point = point\n",
    "        self.width = width\n",
    "        self.children = (np.array([None, None, None, None])).reshape((2,2))\n",
    "        \n",
    "        self.info = list(point)\n",
    "        self.info.append(d)\n",
    "        self.nodes.node(str(self.info), str(self.info))\n",
    "        \n",
    "    def makeTree(self, depth=0):\n",
    "        for i, j in itertools.product(range(2), range(2)):\n",
    "            child_width = (self.width[0]/2.0, self.width[1]/2.0)\n",
    "            child_point = (self.point[0]+child_width[0]*i, self.point[1]+child_width[1]*j)\n",
    "            self.children[i,j] = QuadTree(child_point, child_width, self.info[2]+1)\n",
    "            self.nodes.edge(str(self.info), str(self.children[i,j].info))\n",
    "            \n",
    "            if depth != 0:\n",
    "                self.children[i,j].makeTree(depth-1)\n",
    "        \n",
    "        self.depth = depth+1\n",
    "                \n",
    "    def search(self, point):\n",
    "        node = self\n",
    "        for i in range(self.depth):\n",
    "            for i, j in itertools.product(range(2), range(2)):\n",
    "                x = node.children[i,j].point[0]\n",
    "                y = node.children[i,j].point[1]\n",
    "                x_width = node.children[i,j].width[0]\n",
    "                y_width = node.children[i,j].width[1]\n",
    "                if (x <= point[0] < x+x_width) and (y <= point[1] < y+y_width):\n",
    "                    node = node.children[i, j]\n",
    "                    break\n",
    "        return node"
   ]
  },
  {
   "cell_type": "code",
   "execution_count": 8,
   "metadata": {
    "collapsed": false,
    "deletable": true,
    "editable": true
   },
   "outputs": [],
   "source": [
    "QuadTree.clearGraph()\n",
    "root = QuadTree((0,0), (640,480), 0)\n",
    "root.makeTree(1)"
   ]
  },
  {
   "cell_type": "code",
   "execution_count": 9,
   "metadata": {
    "collapsed": false,
    "deletable": true,
    "editable": true
   },
   "outputs": [
    {
     "name": "stdout",
     "output_type": "stream",
     "text": [
      "[[<__main__.QuadTree instance at 0x7f6512bb1440>\n",
      "  <__main__.QuadTree instance at 0x7f6512bb13b0>]\n",
      " [<__main__.QuadTree instance at 0x7f6512bb1050>\n",
      "  <__main__.QuadTree instance at 0x7f6512ba1a70>]]\n"
     ]
    }
   ],
   "source": [
    "print(root.children)"
   ]
  },
  {
   "cell_type": "code",
   "execution_count": 10,
   "metadata": {
    "collapsed": false,
    "deletable": true,
    "editable": true
   },
   "outputs": [
    {
     "data": {
      "text/plain": [
       "<matplotlib.image.AxesImage at 0x7f6512b85e10>"
      ]
     },
     "execution_count": 10,
     "metadata": {},
     "output_type": "execute_result"
    },
    {
     "data": {
      "image/png": "[encoded data removed]",
      "text/plain": [
       "<matplotlib.figure.Figure at 0x7f650af5a210>"
      ]
     },
     "metadata": {},
     "output_type": "display_data"
    }
   ],
   "source": [
    "QuadTree.nodes.render(\"quad_tree\")\n",
    "img = plt.imread(\"quad_tree.png\")\n",
    "plt.imshow(img)"
   ]
  },
  {
   "cell_type": "code",
   "execution_count": 11,
   "metadata": {
    "collapsed": false,
    "deletable": true,
    "editable": true
   },
   "outputs": [
    {
     "name": "stdout",
     "output_type": "stream",
     "text": [
      "(209.96086444216857, 304.303089498857)\n"
     ]
    }
   ],
   "source": [
    "pt = (np.random.uniform(0, 640), np.random.uniform(0,480))\n",
    "print(pt)\n",
    "leaf = root.search(pt)"
   ]
  },
  {
   "cell_type": "code",
   "execution_count": 7,
   "metadata": {
    "collapsed": false,
    "deletable": true,
    "editable": true
   },
   "outputs": [
    {
     "data": {
      "text/plain": [
       "(80.0, 60.0, 80.0, 60.0)"
      ]
     },
     "execution_count": 7,
     "metadata": {},
     "output_type": "execute_result"
    }
   ],
   "source": [
    "leaf.point+leaf.width"
   ]
  }
 ],
 "metadata": {
  "kernelspec": {
   "display_name": "Python 2",
   "language": "python",
   "name": "python2"
  },
  "language_info": {
   "codemirror_mode": {
    "name": "ipython",
    "version": 2
   },
   "file_extension": ".py",
   "mimetype": "text/x-python",
   "name": "python",
   "nbconvert_exporter": "python",
   "pygments_lexer": "ipython2",
   "version": "2.7.6"
  }
 },
 "nbformat": 4,
 "nbformat_minor": 2
}
