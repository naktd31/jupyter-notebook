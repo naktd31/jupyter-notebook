{
 "cells": [
  {
   "cell_type": "markdown",
   "metadata": {
    "deletable": true,
    "editable": true
   },
   "source": [
    "# 二分木（binary tree)\n",
    "二分木（binary tree; 二進木、バイナリツリー）は、データ構造の1つである。根付き木構造の中で、あるノード（節点 node）が持つ子の数が高々2であるものをいう。典型的には2つの子はそれぞれ「左」「右」と呼ばれる。([Wikipedia](https://ja.wikipedia.org/wiki/%E4%BA%8C%E5%88%86%E6%9C%A8))\n",
    "\n",
    "![画像がないよ](https://upload.wikimedia.org/wikipedia/commons/f/f7/Binary_tree.svg)"
   ]
  },
  {
   "cell_type": "code",
   "execution_count": 1,
   "metadata": {
    "collapsed": true,
    "deletable": true,
    "editable": true
   },
   "outputs": [],
   "source": [
    "from graphviz import Digraph\n",
    "import numpy as np\n",
    "import random\n",
    "import copy\n",
    "import matplotlib.pyplot as plt\n",
    "%matplotlib inline"
   ]
  },
  {
   "cell_type": "code",
   "execution_count": 2,
   "metadata": {
    "collapsed": false,
    "deletable": true,
    "editable": true
   },
   "outputs": [],
   "source": [
    "class BinaryTree():\n",
    "    \n",
    "    nodes = Digraph(format=\"png\")\n",
    "    nodes.attr(\"node\", shape=\"circle\")\n",
    "    nodes.attr(\"graph\", ordering=\"out\")\n",
    "    n = 0\n",
    "    \n",
    "    def __init__(self, x):\n",
    "        self.x = x\n",
    "        self.left = None\n",
    "        self.right = None\n",
    "        self.nodes.node(str(x), str(x))\n",
    "        \n",
    "    def insert(self, x):\n",
    "        \"\"\"\n",
    "        要素の追加\n",
    "        \"\"\"\n",
    "        node = self\n",
    "        self.n += 1\n",
    "        for i in range(self.n):\n",
    "            if x > node.x and node.right == None:\n",
    "                node.right = BinaryTree(x)\n",
    "                node.nodes.edge(str(node.x), str(x))\n",
    "                break\n",
    "                \n",
    "            elif x > node.x:\n",
    "                node = node.right\n",
    "            \n",
    "            if x < node.x and node.left == None:\n",
    "                node.left = BinaryTree(x)\n",
    "                node.nodes.edge(str(node.x), str(x))\n",
    "                break\n",
    "                \n",
    "            elif x < node.x:\n",
    "                node = node.left\n",
    "                \n",
    "    def search(self, x):\n",
    "        \"\"\"\n",
    "        要素の検索\n",
    "        \"\"\"\n",
    "        node = self\n",
    "        i = 0\n",
    "        for i in range(self.n):\n",
    "            if node.x == x:\n",
    "                break\n",
    "            elif x > node.x:\n",
    "                if node.right == None:\n",
    "                    break\n",
    "                else:\n",
    "                    node = node.right\n",
    "            elif x < node.x:\n",
    "                if node.left == None:\n",
    "                    break\n",
    "                else:\n",
    "                    node = node.left\n",
    "            i += 1\n",
    "                \n",
    "        return (self.n, i, node)\n",
    "    \n",
    "    @classmethod\n",
    "    def clearGraph(cls):\n",
    "        \"\"\"\n",
    "        グラフの初期化\n",
    "        \"\"\"\n",
    "        cls.nodes = Digraph(format=\"png\")\n",
    "        cls.nodes.attr(\"node\", shape=\"circle\")\n",
    "        cls.nodes.attr(\"graph\", ordering=\"out\")\n",
    "        cls.n = 0\n",
    "            \n",
    "    def showImage(self):\n",
    "        \"\"\"\n",
    "        グラフの表示\n",
    "        \"\"\"\n",
    "        self.nodes.render(\"binary_tree\")\n",
    "        img = plt.imread(\"binary_tree.png\")\n",
    "        plt.imshow(img)\n",
    "        "
   ]
  },
  {
   "cell_type": "code",
   "execution_count": 3,
   "metadata": {
    "collapsed": false,
    "deletable": true,
    "editable": true
   },
   "outputs": [
    {
     "data": {
      "image/png": "[encoded data removed]",
      "text/plain": [
       "<matplotlib.figure.Figure at 0x7fc60383d490>"
      ]
     },
     "metadata": {},
     "output_type": "display_data"
    }
   ],
   "source": [
    "BinaryTree.clearGraph()\n",
    "N = 100\n",
    "X = range(1000)\n",
    "n = random.sample(X, N)\n",
    "for i,j in enumerate(n):\n",
    "    if i == 0:\n",
    "        root = BinaryTree(j)\n",
    "    else:\n",
    "        root.insert(j)\n",
    "root.showImage()"
   ]
  },
  {
   "cell_type": "code",
   "execution_count": 4,
   "metadata": {
    "collapsed": false,
    "deletable": true,
    "editable": true
   },
   "outputs": [
    {
     "name": "stdout",
     "output_type": "stream",
     "text": [
      "[422]\n"
     ]
    },
    {
     "data": {
      "text/plain": [
       "(99, 7, <__main__.BinaryTree instance at 0x7fc6038576c8>)"
      ]
     },
     "execution_count": 4,
     "metadata": {},
     "output_type": "execute_result"
    }
   ],
   "source": [
    "x = random.sample(n, 1)\n",
    "print(x)\n",
    "root.search(x[0])"
   ]
  },
  {
   "cell_type": "code",
   "execution_count": 5,
   "metadata": {
    "collapsed": false,
    "deletable": true,
    "editable": true
   },
   "outputs": [
    {
     "data": {
      "image/png": "[encoded data removed]",
      "text/plain": [
       "<matplotlib.figure.Figure at 0x7fc6035a3190>"
      ]
     },
     "metadata": {},
     "output_type": "display_data"
    }
   ],
   "source": [
    "BinaryTree.clearGraph()\n",
    "for i,j in enumerate(n):\n",
    "    if i == 0:\n",
    "        root = BinaryTree(x[0])\n",
    "    else:\n",
    "        root.insert(j)\n",
    "root.showImage()"
   ]
  },
  {
   "cell_type": "code",
   "execution_count": null,
   "metadata": {
    "collapsed": true,
    "deletable": true,
    "editable": true
   },
   "outputs": [],
   "source": []
  }
 ],
 "metadata": {
  "kernelspec": {
   "display_name": "Python 2",
   "language": "python",
   "name": "python2"
  },
  "language_info": {
   "codemirror_mode": {
    "name": "ipython",
    "version": 2
   },
   "file_extension": ".py",
   "mimetype": "text/x-python",
   "name": "python",
   "nbconvert_exporter": "python",
   "pygments_lexer": "ipython2",
   "version": "2.7.6"
  }
 },
 "nbformat": 4,
 "nbformat_minor": 2
}
