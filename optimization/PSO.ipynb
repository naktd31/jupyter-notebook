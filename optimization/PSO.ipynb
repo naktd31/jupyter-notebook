{
 "cells": [
  {
   "cell_type": "code",
   "execution_count": 4,
   "metadata": {
    "collapsed": true,
    "deletable": true,
    "editable": true
   },
   "outputs": [],
   "source": [
    "import numpy as np\n",
    "import matplotlib.pyplot as plt\n",
    "import matplotlib.animation as animation\n",
    "import copy\n",
    "%matplotlib inline"
   ]
  },
  {
   "cell_type": "code",
   "execution_count": 5,
   "metadata": {
    "collapsed": false,
    "deletable": true,
    "editable": true
   },
   "outputs": [],
   "source": [
    "class Particle():\n",
    "    best_particle = None\n",
    "    best_value = 0\n",
    "    \n",
    "    def __init__(self, min=-5, max=5, c1=1.0, c2=1.0, w=0.5):\n",
    "        self.x = np.random.uniform(min, max)\n",
    "        self.y = np.random.uniform(min, max)\n",
    "        self.best_x = self.x\n",
    "        self.best_y = self.y\n",
    "        self.best_val = np.inf\n",
    "        self.c1 = c1\n",
    "        self.c2 = c2\n",
    "        self.w = w\n",
    "        self.v_x = np.random.uniform(min, max)\n",
    "        self.v_y = np.random.uniform(min, max)\n",
    "    \n",
    "    def evaluate(self, goal):\n",
    "        value = 0\n",
    "        value += (goal[0] - self.x)**2\n",
    "        value += (goal[1] - self.y)**2\n",
    "        \n",
    "        if value < self.best_val:\n",
    "            self.best_val = value\n",
    "            self.best_x = copy.deepcopy(self.x)\n",
    "            self.best_y = copy.deepcopy(self.y)\n",
    "            \n",
    "        return value\n",
    "        \n",
    "    def update(self):\n",
    "        r1, r2 = np.random.uniform(0, 1.0, 2)\n",
    "        \n",
    "        vx = self.w * self.v_x\n",
    "        vx += self.c1*r1*(self.best_particle.best_x - self.x)\n",
    "        vx += self.c2*r2*(self.best_x - self.x)\n",
    "        vy = self.w * self.v_y\n",
    "        vy += self.c1*r1*(self.best_particle.best_y - self.y)\n",
    "        vy += self.c2*r2*(self.best_y - self.y)\n",
    "        \n",
    "        self.v_x = vx\n",
    "        self.v_y = vy\n",
    "        \n",
    "        self.x += self.v_x\n",
    "        self.y += self.v_y\n",
    "        \n",
    "    @classmethod\n",
    "    def setBest(cls, best):\n",
    "        cls.best_particle = copy.deepcopy(best)"
   ]
  },
  {
   "cell_type": "code",
   "execution_count": 6,
   "metadata": {
    "collapsed": false,
    "deletable": true,
    "editable": true
   },
   "outputs": [
    {
     "data": {
      "text/plain": [
       "<matplotlib.figure.Figure at 0x7f1d5007dbe0>"
      ]
     },
     "metadata": {},
     "output_type": "display_data"
    }
   ],
   "source": [
    "fig = plt.figure(0)\n",
    "def plotParticle(particles, goal):\n",
    "    x = []\n",
    "    y = []\n",
    "    for i in particles:\n",
    "        x.append(i.x)\n",
    "        y.append(i.y)\n",
    "    \n",
    "    \n",
    "    fig1, = plt.plot(x, y, \"bx\")\n",
    "    fig2, = plt.plot(goal[0], goal[1], \"rx\")\n",
    "    plt.xlim(-5, 5)\n",
    "    plt.ylim(-5, 5)\n",
    "    \n",
    "    return fig1"
   ]
  },
  {
   "cell_type": "code",
   "execution_count": 7,
   "metadata": {
    "collapsed": true,
    "deletable": true,
    "editable": true
   },
   "outputs": [],
   "source": [
    "goal = (-3.5, 4.2)\n",
    "n = 50"
   ]
  },
  {
   "cell_type": "code",
   "execution_count": 8,
   "metadata": {
    "collapsed": false,
    "deletable": true,
    "editable": true
   },
   "outputs": [],
   "source": [
    "particles = np.array(np.zeros(n), dtype=object)\n",
    "best_val = np.inf\n",
    "for i,j in enumerate(particles):\n",
    "    particles[i] = Particle()\n",
    "    value = particles[i].evaluate(goal)\n",
    "    if best_val > value:\n",
    "        best_val = value\n",
    "        p1 = particles[i]\n",
    "Particle.setBest(p1)"
   ]
  },
  {
   "cell_type": "code",
   "execution_count": 9,
   "metadata": {
    "collapsed": false,
    "deletable": true,
    "editable": true
   },
   "outputs": [
    {
     "data": {
      "image/png": "[encoded data removed]",
      "text/plain": [
       "<matplotlib.figure.Figure at 0x7f1d6011d0b8>"
      ]
     },
     "metadata": {},
     "output_type": "display_data"
    }
   ],
   "source": [
    "figs = []\n",
    "#plotParticle(particles, goal)\n",
    "figs.append([plotParticle(particles, goal)])"
   ]
  },
  {
   "cell_type": "code",
   "execution_count": 10,
   "metadata": {
    "collapsed": false,
    "deletable": true,
    "editable": true
   },
   "outputs": [
    {
     "data": {
      "image/png": "[encoded data removed]",
      "text/plain": [
       "<matplotlib.figure.Figure at 0x7f1d38a382b0>"
      ]
     },
     "metadata": {},
     "output_type": "display_data"
    }
   ],
   "source": [
    "for k in range(10):\n",
    "    for i, j in enumerate(particles):\n",
    "        particles[i].update()\n",
    "        value = particles[i].evaluate(goal)\n",
    "        if best_val > value:\n",
    "            best_val = value\n",
    "            p1 = particles[i]\n",
    "    Particle.setBest(p1)\n",
    "    plt.clf()\n",
    "    figs.append([plotParticle(particles, goal)])"
   ]
  },
  {
   "cell_type": "code",
   "execution_count": 8,
   "metadata": {
    "collapsed": false,
    "deletable": true,
    "editable": true,
    "scrolled": true
   },
   "outputs": [],
   "source": [
    "ani = animation.ArtistAnimation(fig, figs)\n",
    "plt.show()\n",
    "#ani.save('sample.gif', writer='imagemagick')"
   ]
  }
 ],
 "metadata": {
  "kernelspec": {
   "display_name": "Python 3",
   "language": "python",
   "name": "python3"
  },
  "language_info": {
   "codemirror_mode": {
    "name": "ipython",
    "version": 3
   },
   "file_extension": ".py",
   "mimetype": "text/x-python",
   "name": "python",
   "nbconvert_exporter": "python",
   "pygments_lexer": "ipython3",
   "version": "3.4.3"
  }
 },
 "nbformat": 4,
 "nbformat_minor": 2
}
