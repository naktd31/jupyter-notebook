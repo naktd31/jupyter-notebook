{
 "cells": [
  {
   "cell_type": "code",
   "execution_count": 1,
   "metadata": {},
   "outputs": [],
   "source": [
    "import numpy as np\n",
    "import matplotlib.pyplot as plt\n",
    "%matplotlib inline"
   ]
  },
  {
   "cell_type": "code",
   "execution_count": 2,
   "metadata": {},
   "outputs": [
    {
     "data": {
      "text/plain": [
       "(array([1. , 1.2]), array([0.17453293, 0.78539816]))"
      ]
     },
     "execution_count": 2,
     "metadata": {},
     "output_type": "execute_result"
    }
   ],
   "source": [
    "r = np.array([1., 1.2])\n",
    "th = np.deg2rad([10, 45.])\n",
    "r, th"
   ]
  },
  {
   "cell_type": "code",
   "execution_count": 3,
   "metadata": {},
   "outputs": [
    {
     "data": {
      "text/plain": [
       "[<matplotlib.lines.Line2D at 0x7f13cab31c88>]"
      ]
     },
     "execution_count": 3,
     "metadata": {},
     "output_type": "execute_result"
    },
    {
     "data": {
      "image/png": "[encoded data removed]",
      "text/plain": [
       "<Figure size 432x288 with 1 Axes>"
      ]
     },
     "metadata": {},
     "output_type": "display_data"
    }
   ],
   "source": [
    "def fk(r,th):\n",
    "    x, y = [0, 0]\n",
    "    xy = [[x, y]]\n",
    "    th_ = 0\n",
    "    for i, (r,t) in enumerate(zip(r, th)):\n",
    "        th_ += t\n",
    "        x += r * np.cos(th_)\n",
    "        y += r * np.sin(th_)\n",
    "        xy.append([x, y])\n",
    "    return np.array([x,y]), np.array(xy)\n",
    "\n",
    "xy, xy_array= fk(r, th)\n",
    "plt.plot(xy_array[:,0], xy_array[:,1], \"bx-\")"
   ]
  },
  {
   "cell_type": "code",
   "execution_count": 4,
   "metadata": {},
   "outputs": [],
   "source": [
    "def jaco(r, th):\n",
    "    n = th.shape[0]\n",
    "    j = np.zeros((n, n))\n",
    "    j[0,0] = - r[0] * np.sin(th[0]) - r[1] * np.sin(th[0] + th[1])\n",
    "    j[0,1] = - r[1] * np.sin(th[0] + th[1])\n",
    "    j[1,0] = + r[0] * np.cos(th[0]) + r[1] * np.cos(th[0] + th[1])\n",
    "    j[1,1] = + r[1] * np.cos(th[0] + th[1])\n",
    "    return j\n",
    "j = jaco(r, th)"
   ]
  },
  {
   "cell_type": "code",
   "execution_count": 5,
   "metadata": {},
   "outputs": [
    {
     "data": {
      "text/plain": [
       "[<matplotlib.lines.Line2D at 0x7f13caad3e10>]"
      ]
     },
     "execution_count": 5,
     "metadata": {},
     "output_type": "execute_result"
    },
    {
     "data": {
      "image/png": "[encoded data removed]",
      "text/plain": [
       "<Figure size 432x288 with 1 Axes>"
      ]
     },
     "metadata": {},
     "output_type": "display_data"
    }
   ],
   "source": [
    "def ik(r, xy, dt=0.001):\n",
    "    th_ = np.random.uniform(-np.pi, np.pi, size=xy.shape)\n",
    "    for i in range(20000):\n",
    "        xy_, _ = fk(r, th_)\n",
    "        j = np.linalg.inv(jaco(r, th_))\n",
    "        th_ = th_ - dt * (xy_ - xy) * j.dot(th_.reshape(2,1)).reshape(2)\n",
    "        \n",
    "        if i % 1000 == 0:\n",
    "            _, xy_array= fk(r, th_)\n",
    "            plt.plot(xy_array[:,0], xy_array[:,1], \"rx-\")\n",
    "    return th_\n",
    "xy, xy_array= fk(r, th)\n",
    "plt.plot(xy_array[:,0], xy_array[:,1], \"bx-\")\n",
    "xy_, xy_array = fk(r, ik(r, xy))\n",
    "plt.plot(xy_array[:,0], xy_array[:,1], \"rx-\")"
   ]
  }
 ],
 "metadata": {
  "kernelspec": {
   "display_name": "Python 3",
   "language": "python",
   "name": "python3"
  },
  "language_info": {
   "codemirror_mode": {
    "name": "ipython",
    "version": 3
   },
   "file_extension": ".py",
   "mimetype": "text/x-python",
   "name": "python",
   "nbconvert_exporter": "python",
   "pygments_lexer": "ipython3",
   "version": "3.6.5"
  }
 },
 "nbformat": 4,
 "nbformat_minor": 2
}
