{
 "cells": [
  {
   "cell_type": "markdown",
   "metadata": {},
   "source": []
  },
  {
   "cell_type": "code",
   "execution_count": null,
   "metadata": {
    "collapsed": true
   },
   "outputs": [],
   "source": []
  },
  {
   "cell_type": "markdown",
   "metadata": {},
   "source": [
    "# Python勉強会 （第1回）"
   ]
  },
  {
   "cell_type": "markdown",
   "metadata": {},
   "source": [
    "今回の内容は研究室の新人研修（Python）くらいは理解できている前提です．  \n",
    "分からなくなったら，新人研修の資料とかを読み返してみてください．  \n",
    "今回の内容がみんなの研究のあまり本質では無いところとかで密かに役立ってくれたりすると幸いです．"
   ]
  },
  {
   "cell_type": "markdown",
   "metadata": {},
   "source": [
    "## 目次\n",
    "- pythonを推す理由\n",
    "- シーケンス型の扱い\n",
    "  - 内包表現\n",
    "  - Lambda式\n",
    "  - 変数の保存\n",
    "- Pythonでのデバッグ\n",
    "  - printデバッグ\n",
    "  - 例外処理\n",
    "  - pdb\n",
    "- 研究室でよく使用するライブラリたち\n",
    "  - numpy\n",
    "  - scipy\n",
    "  - cv2(opencv)\n",
    "  - matplotlib\n",
    "  - pandas (おまけ)"
   ]
  },
  {
   "cell_type": "markdown",
   "metadata": {},
   "source": [
    "## pythonを推す理由"
   ]
  },
  {
   "cell_type": "markdown",
   "metadata": {},
   "source": [
    "### なぜpythonか"
   ]
  },
  {
   "cell_type": "markdown",
   "metadata": {},
   "source": [
    "> Python（パイソン）は、汎用のプログラミング言語である。コードがシンプルで扱いやすく設計されており、C言語などに比べて、さまざまなプログラムを分かりやすく、少ないコード行数で書けるといった特徴がある．  \n",
    "核となる本体部分は必要最小限に抑えられている。一方で標準ライブラリやサードパーティ製のライブラリ、関数など、さまざまな領域に特化した豊富で大規模なツール群が用意され、インターネット上から無料で入手でき、自らの使用目的に応じて機能を拡張してゆくことができる。  \n",
    "Pythonはオブジェクト指向、命令型、手続き型、関数型などの形式でプログラムを書くことができる。動的型付け言語であり、参照カウントベースの自動メモリ管理（ガベージコレクタ）を持つ。\n",
    "[Wikipedia](https://ja.wikipedia.org/wiki/Python \"Python wiki\")  \n",
    "\n",
    "Pythonでは処理を直感的に記述出来て，たくさんのライブラリをただで使える！"
   ]
  },
  {
   "cell_type": "markdown",
   "metadata": {},
   "source": [
    "### 純粋なpython環境でもたくさんのことができる"
   ]
  },
  {
   "cell_type": "markdown",
   "metadata": {},
   "source": [
    "pythonは，動的型付け言語なので変数の型を気にすることがない．  \n",
    "それに加えてlist, dictなどシーケンス型の変数がすごく便利である．\n",
    "しかも，これらの変数を簡単に書き出し，読み込みをすることができる．\n",
    "以下に書き出しの例を示す．"
   ]
  },
  {
   "cell_type": "code",
   "execution_count": 98,
   "metadata": {},
   "outputs": [
    {
     "name": "stdout",
     "output_type": "stream",
     "text": [
      "{'研究室メンバー': ['Yamazaki', 'Nagahama', 'Arnold', 'Matsumoto', 'Kamal', 'Koishihara', 'Shimakawa', 'Baku', 'Sano', 'Tanaka', 'Tsuda', 'Matsuda', 'Demura', 'Higashide', 'Kawagoshi', 'Nakajima', 'Nogami'], 'ロボット': ['HIRO016', 'HIRO023', 'Baxter', 'HSR', 'icart-mini', 'Roomba', 'NAOs'], 'Room': [410, 406, 405, 103, 108]}\n",
      "{'Room': [410, 406, 405, 103, 108], 'ロボット': ['HIRO016', 'HIRO023', 'Baxter', 'HSR', 'icart-mini', 'Roomba', 'NAOs'], '研究室メンバー': ['Yamazaki', 'Nagahama', 'Arnold', 'Matsumoto', 'Kamal', 'Koishihara', 'Shimakawa', 'Baku', 'Sano', 'Tanaka', 'Tsuda', 'Matsuda', 'Demura', 'Higashide', 'Kawagoshi', 'Nakajima', 'Nogami']}\n"
     ]
    }
   ],
   "source": [
    "import json\n",
    "data = {\n",
    "    \"研究室メンバー\": [\"Yamazaki\", \"Nagahama\", \"Arnold\",\n",
    "                \"Matsumoto\",\n",
    "                \"Kamal\", \"Koishihara\", \"Shimakawa\",\n",
    "                \"Baku\", \"Sano\", \"Tanaka\", \"Tsuda\", \"Matsuda\",\n",
    "                \"Demura\", \"Higashide\", \"Kawagoshi\", \"Nakajima\", \"Nogami\"\n",
    "               ],\n",
    "    \"ロボット\": [\"HIRO016\", \"HIRO023\", \"Baxter\", \"HSR\", \"icart-mini\", \"Roomba\",\"NAOs\"],\n",
    "    \"Room\": [410, 406, 405, 103, 108],\n",
    "    }\n",
    "print(data)\n",
    "\n",
    "# 書き出し\n",
    "with open(\"sample.json\", \"w\") as f:\n",
    "    json.dump(data, f, ensure_ascii=False, indent=4, sort_keys=True, separators=(',', ': '))\n",
    "    \n",
    "# 読み込み\n",
    "with open(\"sample.json\", \"r\") as f:\n",
    "    read_data = json.load(f)\n",
    "print(read_data)"
   ]
  },
  {
   "cell_type": "code",
   "execution_count": 104,
   "metadata": {
    "scrolled": true
   },
   "outputs": [
    {
     "data": {
      "text/plain": [
       "'piyo'"
      ]
     },
     "execution_count": 104,
     "metadata": {},
     "output_type": "execute_result"
    }
   ],
   "source": [
    "hoge = {0: \"fuga\", 2: \"piyo\"}\n",
    "hoge[2]"
   ]
  },
  {
   "cell_type": "markdown",
   "metadata": {},
   "source": [
    "### ライブラリが豊富"
   ]
  },
  {
   "cell_type": "markdown",
   "metadata": {},
   "source": [
    "最近流行りのディープラーニング関係のライブラリはほとんどがpythonのAPIが存在する．\n",
    "- Tensorflow\n",
    "- Chainer\n",
    "- Caffe\n",
    "など\n",
    "\n",
    "ほかにも\n",
    "数値計算系ではnumpyやscipy, matplotlib,\n",
    "画像処理ではopencvやPILやPillowなど，\n",
    "便利なライブラリがたくさんある．  \n",
    "細かい実装はこれらのライブラリに任せて我々はやりたいことのコードを書くだけでよい．  \n",
    "Pythonではこれらのライブラリの扱いに慣れることで面倒な部分のコーディングに時間を書けなくて済む．"
   ]
  },
  {
   "cell_type": "markdown",
   "metadata": {},
   "source": [
    "---"
   ]
  },
  {
   "cell_type": "markdown",
   "metadata": {},
   "source": [
    "## シーケンス型の扱い"
   ]
  },
  {
   "cell_type": "markdown",
   "metadata": {},
   "source": [
    "先程の話でもあったが，pythonではlistとdictに代表されるシーケンス型の変数が非常に便利で強力である．\n",
    "\n",
    "シーケンス型（list & dict）の特徴\n",
    "- 特に何も考えずに変数を蓄えられる.\n",
    "    - 長さが可変\n",
    "    - 要素に型の制限は無い\n",
    "        - listのlistなどの入れ子にすることもできる\n",
    "    \n",
    "- 保存と読込みが簡単に行える．\n",
    "    - 学習データの収集に使える．\n",
    "    - 要素に種類がある場合はlistではなく,dictを使うことを薦める．\n",
    "        - 他人とデータを共有するときに，いろいろとやりやすい．\n",
    "        \n",
    "- 高階関数により，一括して処理ができる．\n",
    "    - map, filter, reduceによる処理\n",
    "    - sortedによる要素のソート\n",
    "\n",
    "\n",
    "以下ではこれらの変数の扱いについて紹介する．"
   ]
  },
  {
   "cell_type": "markdown",
   "metadata": {},
   "source": [
    "### 内包表現"
   ]
  },
  {
   "cell_type": "markdown",
   "metadata": {},
   "source": [
    "内包表現とは，リストや辞書，ジェネレータなどのiterableオブジェクトのループ処理を単純に書く記法のことである．それに対応して，リスト内包，辞書内包，などと呼ばれる．\n",
    "今回は多分よく使うであろう，リスト内包と辞書内包について紹介していきます．\n",
    "\n",
    "リストの処理はPythonの基本処理の中でも結構重いものに当たる．\n",
    "\n",
    "1. for文＋list.append()\n",
    "    - 読みやすい？\n",
    "    - 要素数がある程度大きなリストを作る場合かなり時間がかかってしまう．  \n",
    "1. 内包表現を使用する\n",
    "    - 方法１よりも高速\n",
    "    - 慣れないと若干読みづらい    \n",
    "1. C++で書いて，Pythonで呼び出す．\n",
    "    - やったことないのでわかりません．\n",
    "    - 一番高速化できるらしいです．\n",
    "\n",
    "内包表現では条件をつけたりして，ある程度複雑なリストの作成も可能だが，あんまり複雑な場合ただただ読みづらいだけになる可能性もある．  \n",
    "リストがある程度複雑な場合は，for分とかif分とか使って書いた方がいいかもしれないです．  \n",
    "そこら辺は可読性と実効速度のどちらを優先するのかによって変わってくるので，どちらが正しいとも言えない．\n"
   ]
  },
  {
   "cell_type": "markdown",
   "metadata": {},
   "source": [
    "とりあえず，例題を書いてみる.  \n",
    "以下は1から1,000,000までのリストをfor文を使用して作成する方法と内包表現を用いて作成するコードである．"
   ]
  },
  {
   "cell_type": "markdown",
   "metadata": {},
   "source": [
    "#### for文 + list.append()"
   ]
  },
  {
   "cell_type": "code",
   "execution_count": 105,
   "metadata": {},
   "outputs": [
    {
     "name": "stdout",
     "output_type": "stream",
     "text": [
      "10 loops, best of 3: 109 ms per loop\n"
     ]
    }
   ],
   "source": [
    "%%timeit\n",
    "a = []\n",
    "for i in range(1000000): a.append(i)"
   ]
  },
  {
   "cell_type": "markdown",
   "metadata": {},
   "source": [
    "#### 内包表現を使用"
   ]
  },
  {
   "cell_type": "code",
   "execution_count": 106,
   "metadata": {},
   "outputs": [
    {
     "name": "stdout",
     "output_type": "stream",
     "text": [
      "10 loops, best of 3: 61.4 ms per loop\n"
     ]
    }
   ],
   "source": [
    "%%timeit\n",
    "a = [i for i in range(1000000)]"
   ]
  },
  {
   "cell_type": "markdown",
   "metadata": {},
   "source": [
    "今回だと，40ms程差が出ているが，この差が意外と効いてくる．  \n",
    "この処理を100回繰り返すと4秒，10000回繰り返すと，400秒=約7分も差が出る．  \n",
    "このくらい単純なリストの場合は内包表現を使用することをおすすめする．"
   ]
  },
  {
   "cell_type": "markdown",
   "metadata": {},
   "source": [
    "##### 初期値が3，公差が2，長さが30の等差数列"
   ]
  },
  {
   "cell_type": "code",
   "execution_count": 107,
   "metadata": {},
   "outputs": [
    {
     "data": {
      "text/plain": [
       "([3, 5, 7, 9, 11, 13, 15, 17, 19, 21], 30)"
      ]
     },
     "execution_count": 107,
     "metadata": {},
     "output_type": "execute_result"
    }
   ],
   "source": [
    "a = [3 + i*2 for i in range(30)]\n",
    "a[:10], len(a)"
   ]
  },
  {
   "cell_type": "markdown",
   "metadata": {},
   "source": [
    "内包表現内でif文も取り扱うことができる．  \n",
    "以下に例題を示していくが，if分くらいならまだ大丈夫だが，\n",
    "elseまで入れると内包表現は非常に読みづらいものになる．\n",
    "\n",
    "以下は0から100まででの3の倍数のリストを作成するコード"
   ]
  },
  {
   "cell_type": "markdown",
   "metadata": {},
   "source": [
    "#### for文 + if文 + list.append()"
   ]
  },
  {
   "cell_type": "code",
   "execution_count": 4,
   "metadata": {},
   "outputs": [
    {
     "data": {
      "text/plain": [
       "[0, 3, 6, 9, 12, 15, 18, 21, 24, 27]"
      ]
     },
     "execution_count": 4,
     "metadata": {},
     "output_type": "execute_result"
    }
   ],
   "source": [
    "a = []\n",
    "for i in range(100):\n",
    "    if i % 3 == 0:\n",
    "        a.append(i) \n",
    "a[:10]"
   ]
  },
  {
   "cell_type": "markdown",
   "metadata": {},
   "source": [
    "#### 内包表現を使用"
   ]
  },
  {
   "cell_type": "code",
   "execution_count": 63,
   "metadata": {},
   "outputs": [
    {
     "data": {
      "text/plain": [
       "[0, 3, 6, 9, 12, 15, 18, 21, 24, 27]"
      ]
     },
     "execution_count": 63,
     "metadata": {},
     "output_type": "execute_result"
    }
   ],
   "source": [
    "a = [i for i in range(100) if i % 3 == 0]\n",
    "a[:10]"
   ]
  },
  {
   "cell_type": "markdown",
   "metadata": {},
   "source": [
    "else文まで入るとかなり読みづらい...\n",
    "\n",
    "以下は0から100までの3の倍数はそのまま，それ以外は0としたリストを作成するコード"
   ]
  },
  {
   "cell_type": "markdown",
   "metadata": {},
   "source": [
    "#### for文 + if-else文 + list.append()"
   ]
  },
  {
   "cell_type": "code",
   "execution_count": 60,
   "metadata": {},
   "outputs": [
    {
     "data": {
      "text/plain": [
       "[0, 0, 0, 3, 0, 0, 6, 0, 0, 9]"
      ]
     },
     "execution_count": 60,
     "metadata": {},
     "output_type": "execute_result"
    }
   ],
   "source": [
    "a = []\n",
    "for i in range(100):\n",
    "    if i % 3 == 0:\n",
    "        a.append(i) \n",
    "    else:\n",
    "        a.append(0)\n",
    "a[:10]"
   ]
  },
  {
   "cell_type": "markdown",
   "metadata": {},
   "source": [
    "#### 内包表現を使用"
   ]
  },
  {
   "cell_type": "code",
   "execution_count": 111,
   "metadata": {},
   "outputs": [
    {
     "data": {
      "text/plain": [
       "[0, 0, 0, 3, 0, 0, 6, 0, 0, 9]"
      ]
     },
     "execution_count": 111,
     "metadata": {},
     "output_type": "execute_result"
    }
   ],
   "source": [
    "a = [i if i % 3 == 0 else 0  for i in range(100)]\n",
    "a[:10]"
   ]
  },
  {
   "cell_type": "code",
   "execution_count": 109,
   "metadata": {},
   "outputs": [
    {
     "data": {
      "text/plain": [
       "True"
      ]
     },
     "execution_count": 109,
     "metadata": {},
     "output_type": "execute_result"
    }
   ],
   "source": [
    "i = True if 10 > 1 else False\n",
    "i"
   ]
  },
  {
   "cell_type": "markdown",
   "metadata": {},
   "source": [
    "これくらいになると読めなくは無いが，読むのにとても時間がかかるのでおすすめしない"
   ]
  },
  {
   "cell_type": "code",
   "execution_count": 74,
   "metadata": {},
   "outputs": [
    {
     "data": {
      "text/plain": [
       "[[1, 1, 2, 1, 4, 5, 1, 7, 8, 1],\n",
       " [0, 1, 2, 9, 4, 5, 36, 7, 8, 81],\n",
       " [0, 1, 2, 81, 4, 5, 1296, 7, 8, 6561],\n",
       " [0, 1, 2, 729, 4, 5, 46656, 7, 8, 531441],\n",
       " [0, 1, 2, 6561, 4, 5, 1679616, 7, 8, 43046721]]"
      ]
     },
     "execution_count": 74,
     "metadata": {},
     "output_type": "execute_result"
    }
   ],
   "source": [
    "a = [[j**i if j % 3 == 0 else j for j in range(10)] for i in range(10) if i % 2 == 0]\n",
    "a"
   ]
  },
  {
   "cell_type": "markdown",
   "metadata": {},
   "source": [
    "リスト内包についてはここまでです．  \n",
    "あとは辞書内包表現について少しだけ説明して行きます．\n",
    "辞書オブジェクトは他の人とデータを共有するときにおすすめのデータ型なので，辞書内包についても覚えておいて損はないと思います．\n",
    "内容としてはリスト内包が分かれば問題なくわかると思います．"
   ]
  },
  {
   "cell_type": "markdown",
   "metadata": {},
   "source": [
    "### 例題"
   ]
  },
  {
   "cell_type": "markdown",
   "metadata": {},
   "source": [
    "３ｘ３の行列  \n",
    "[1 2 3]  \n",
    "[4 5 6]  \n",
    "[7 8 9]  "
   ]
  },
  {
   "cell_type": "code",
   "execution_count": 124,
   "metadata": {},
   "outputs": [
    {
     "name": "stdout",
     "output_type": "stream",
     "text": [
      "[[1, 2, 3], [4, 5, 6], [7, 8, 9]]\n"
     ]
    }
   ],
   "source": [
    "hoge = [[1, 2, 3],\n",
    "[4, 5, 6],\n",
    "[7, 8, 9]]\n",
    "print(hoge)"
   ]
  },
  {
   "cell_type": "code",
   "execution_count": 129,
   "metadata": {},
   "outputs": [
    {
     "data": {
      "text/plain": [
       "{'0', '1', '2', '3', '9', ';', 'a', 'e', 'f', 'g', 'h', 'i', 'j', 'o', 'w'}"
      ]
     },
     "execution_count": 129,
     "metadata": {},
     "output_type": "execute_result"
    }
   ],
   "source": [
    "set([c for c in \"hogehgoeohgeoijfeoawjef;oiajwe;of19201923iohgeo\"])"
   ]
  },
  {
   "cell_type": "markdown",
   "metadata": {},
   "source": [
    "#### 適当な辞書内包の例"
   ]
  },
  {
   "cell_type": "code",
   "execution_count": 137,
   "metadata": {},
   "outputs": [
    {
     "data": {
      "text/plain": [
       "({'e': 3, 'g': 2, 'h': 0, 'o': 1}, {0: 'h', 1: 'o', 2: 'g', 3: 'e'})"
      ]
     },
     "execution_count": 137,
     "metadata": {},
     "output_type": "execute_result"
    }
   ],
   "source": [
    "a = {k: v for k,v in zip(\"hoge\", range(4))}\n",
    "\n",
    "b = {kv[1]: kv[0] for kv in zip(\"hoge\", range(4))}\n",
    "a, b"
   ]
  },
  {
   "cell_type": "code",
   "execution_count": 138,
   "metadata": {},
   "outputs": [
    {
     "data": {
      "text/plain": [
       "[('h', 0), ('o', 1), ('g', 2), ('e', 3)]"
      ]
     },
     "execution_count": 138,
     "metadata": {},
     "output_type": "execute_result"
    }
   ],
   "source": [
    "list(zip(\"hoge\", range(5)))"
   ]
  },
  {
   "cell_type": "code",
   "execution_count": 140,
   "metadata": {},
   "outputs": [
    {
     "data": {
      "text/plain": [
       "{'e': 7, 'g': 6, 'h': 4, 'o': 5}"
      ]
     },
     "execution_count": 140,
     "metadata": {},
     "output_type": "execute_result"
    }
   ],
   "source": [
    "a = {k: v for k,v in zip(\"hogehoge\", range(8))}\n",
    "a"
   ]
  },
  {
   "cell_type": "markdown",
   "metadata": {},
   "source": [
    "#### if文, if-else文を使用する例"
   ]
  },
  {
   "cell_type": "code",
   "execution_count": 106,
   "metadata": {},
   "outputs": [
    {
     "data": {
      "text/plain": [
       "{'a': 7, 'e': 3, 'f': 4, 'h': 0, 'o': 1, 'u': 5}"
      ]
     },
     "execution_count": 106,
     "metadata": {},
     "output_type": "execute_result"
    }
   ],
   "source": [
    "a = {k: v for k, v in zip(\"hogefuga\", range(8)) if k != 'g'}\n",
    "a"
   ]
  },
  {
   "cell_type": "code",
   "execution_count": 142,
   "metadata": {},
   "outputs": [
    {
     "data": {
      "text/plain": [
       "{'a': 0, 'b': 4, 'e': 0, 'g': 2, 'h': 0, 'o': 0, 'r': 6}"
      ]
     },
     "execution_count": 142,
     "metadata": {},
     "output_type": "execute_result"
    }
   ],
   "source": [
    "a = {k: v if v % 2 == 0 else 0 for k, v in zip(\"hogebar\", range(7))}\n",
    "a"
   ]
  },
  {
   "cell_type": "code",
   "execution_count": 111,
   "metadata": {},
   "outputs": [
    {
     "data": {
      "text/plain": [
       "{'a': 0, 'e': 0, 'f': 4, 'h': 0, 'o': 0, 'u': 0}"
      ]
     },
     "execution_count": 111,
     "metadata": {},
     "output_type": "execute_result"
    }
   ],
   "source": [
    "a = {k: v if v % 2 == 0 else 0 for k, v in zip(\"hogefuga\", range(8)) if k != \"g\"}\n",
    "a"
   ]
  },
  {
   "cell_type": "code",
   "execution_count": 148,
   "metadata": {},
   "outputs": [
    {
     "data": {
      "text/plain": [
       "{1: 0, 3: 2, 5: 4, 7: 6, 9: 16, 11: 10, 13: 36, 15: 14, 17: 64, 19: 18}"
      ]
     },
     "execution_count": 148,
     "metadata": {},
     "output_type": "execute_result"
    }
   ],
   "source": [
    "a = {i*2+1: v**2 if v % 2 == 0 else v*2 for i, v in enumerate(range(10))}\n",
    "a"
   ]
  },
  {
   "cell_type": "code",
   "execution_count": 147,
   "metadata": {},
   "outputs": [
    {
     "data": {
      "text/plain": [
       "[(0, 'h'),\n",
       " (1, 'o'),\n",
       " (2, 'g'),\n",
       " (3, 'e'),\n",
       " (4, 'h'),\n",
       " (5, 'o'),\n",
       " (6, 'g'),\n",
       " (7, 'e')]"
      ]
     },
     "execution_count": 147,
     "metadata": {},
     "output_type": "execute_result"
    }
   ],
   "source": [
    "list(enumerate(\"hogehoge\"))"
   ]
  },
  {
   "cell_type": "markdown",
   "metadata": {},
   "source": [
    "あとはジェネレータ内包とか，セット内包とかがあるけど，基本的にはリスト内包が理解できれば他のものも理解できると思われる．  \n",
    "途中出てくるzipとかenumerateが分からない場合はググってください！"
   ]
  },
  {
   "cell_type": "markdown",
   "metadata": {},
   "source": [
    "### Lambda式"
   ]
  },
  {
   "cell_type": "markdown",
   "metadata": {},
   "source": [
    "無名関数のことである．関数を変数として扱える．map, filter, reduceなどが代表に挙げられる高階関数を使用するときに役に立つ．  \n",
    "ファイル名を扱うような単純な関数としても意外と使える．  \n",
    "あとはsortedがかなり役に立つ．"
   ]
  },
  {
   "cell_type": "markdown",
   "metadata": {},
   "source": [
    "Lambda式とは，無名関数のことである．名前の無い関数のことである．  \n",
    "使いみちの一つの例として，関数を引数とした関数の作成が可能になる．  \n",
    "言葉ではあまりよく分からないと思われるので，とりあえず例題を幾つか上げる．"
   ]
  },
  {
   "cell_type": "markdown",
   "metadata": {},
   "source": [
    "mapを使用した例．  \n",
    "mapの解説を簡単にしておくと，第一引数として入力する関数を第二引数全てに対して適応するような関数である．  \n",
    "python3の場合，その結果を出力するジェネレータが作成される．この辺の細かい話は今回は割愛する．"
   ]
  },
  {
   "cell_type": "code",
   "execution_count": 155,
   "metadata": {},
   "outputs": [
    {
     "data": {
      "text/plain": [
       "6"
      ]
     },
     "execution_count": 155,
     "metadata": {},
     "output_type": "execute_result"
    }
   ],
   "source": [
    "f = lambda x: x+3\n",
    "f(3)"
   ]
  },
  {
   "cell_type": "code",
   "execution_count": 151,
   "metadata": {},
   "outputs": [
    {
     "data": {
      "text/plain": [
       "[0, 1, 4, 9, 16, 25, 36, 49, 64, 81]"
      ]
     },
     "execution_count": 151,
     "metadata": {},
     "output_type": "execute_result"
    }
   ],
   "source": [
    "a = [i for i in range(100)]\n",
    "b = map(lambda x:x**2, a)\n",
    "list(b)[:10]"
   ]
  },
  {
   "cell_type": "code",
   "execution_count": 153,
   "metadata": {},
   "outputs": [
    {
     "data": {
      "text/plain": [
       "[0, 1, 4, 9, 16, 25, 36, 49, 64, 81]"
      ]
     },
     "execution_count": 153,
     "metadata": {},
     "output_type": "execute_result"
    }
   ],
   "source": [
    "list(map(lambda x:x**2, [i for i in range(100)]))[:10]"
   ]
  },
  {
   "cell_type": "code",
   "execution_count": 150,
   "metadata": {},
   "outputs": [
    {
     "data": {
      "text/plain": [
       "[0, 1, 4, 9, 16, 25, 36, 49, 64, 81]"
      ]
     },
     "execution_count": 150,
     "metadata": {},
     "output_type": "execute_result"
    }
   ],
   "source": [
    "a = [i for i in range(100)]\n",
    "def hoge(x): return x**2\n",
    "\n",
    "b = map(hoge, a)\n",
    "list(b)[:10]"
   ]
  },
  {
   "cell_type": "markdown",
   "metadata": {},
   "source": [
    "上の例の意味としては，まず0から99までのリストを作成する．（内包表現）\n",
    "次にそのリストの各要素に対して，引数1の関数を適応し，その関数の出力を新しくリストとしてまとめる（本当はジェネレータ）．\n",
    "これを引数の関数を変更すると，当然であるが出力するリストの中身も変化する．"
   ]
  },
  {
   "cell_type": "code",
   "execution_count": 76,
   "metadata": {},
   "outputs": [
    {
     "data": {
      "text/plain": [
       "[0, 1, 8, 27, 64, 125, 216, 343, 512, 729]"
      ]
     },
     "execution_count": 76,
     "metadata": {},
     "output_type": "execute_result"
    }
   ],
   "source": [
    "a = [i for i in range(100)]\n",
    "b = map(lambda x:x**3, a)\n",
    "list(b)[:10]"
   ]
  },
  {
   "cell_type": "code",
   "execution_count": 158,
   "metadata": {},
   "outputs": [
    {
     "data": {
      "text/plain": [
       "[1, 4, 16, 64, 256, 1024, 4096, 16384, 65536, 262144]"
      ]
     },
     "execution_count": 158,
     "metadata": {},
     "output_type": "execute_result"
    }
   ],
   "source": [
    "f = (lambda x:x**i for i in range(10))\n",
    "x = [func(4) for func in f]\n",
    "x"
   ]
  },
  {
   "cell_type": "markdown",
   "metadata": {},
   "source": [
    "上の例はLambda式のリスト（ほんとはジェネレータ）を作成し，それぞれの関数を適応した結果のリストを作成している．  \n",
    "あんまりいい例では無いがこんな繰り返す処理を行うのに何度も関数を作る必要がなくなる．"
   ]
  },
  {
   "cell_type": "markdown",
   "metadata": {},
   "source": [
    "sortedを使用した例．  \n",
    "sortedは第一引数のシーケンスをkeyに従って並び替え，その結果を出力する高階関数である．  \n",
    "listのlistや，tuple，classのソートに使用する．  \n",
    "keyにはlambda式で比べる要素を記述するとよい"
   ]
  },
  {
   "cell_type": "markdown",
   "metadata": {},
   "source": [
    "#### listのlistをソート"
   ]
  },
  {
   "cell_type": "code",
   "execution_count": 164,
   "metadata": {},
   "outputs": [
    {
     "name": "stdout",
     "output_type": "stream",
     "text": [
      "a:\n",
      "[[4, 30, 84],\n",
      " [43, 47, 21],\n",
      " [69, 79, 37],\n",
      " [51, 93, 36],\n",
      " [3, 8, 20],\n",
      " [98, 34, 83],\n",
      " [58, 14, 9],\n",
      " [52, 20, 95],\n",
      " [38, 35, 33],\n",
      " [58, 29, 49]]\n",
      "\n",
      "[[[3, 8, 20],\n",
      "  [4, 30, 84],\n",
      "  [38, 35, 33],\n",
      "  [43, 47, 21],\n",
      "  [51, 93, 36],\n",
      "  [52, 20, 95],\n",
      "  [58, 14, 9],\n",
      "  [58, 29, 49],\n",
      "  [69, 79, 37],\n",
      "  [98, 34, 83]],\n",
      " [[3, 8, 20],\n",
      "  [58, 14, 9],\n",
      "  [52, 20, 95],\n",
      "  [58, 29, 49],\n",
      "  [4, 30, 84],\n",
      "  [98, 34, 83],\n",
      "  [38, 35, 33],\n",
      "  [43, 47, 21],\n",
      "  [69, 79, 37],\n",
      "  [51, 93, 36]],\n",
      " [[58, 14, 9],\n",
      "  [3, 8, 20],\n",
      "  [43, 47, 21],\n",
      "  [38, 35, 33],\n",
      "  [51, 93, 36],\n",
      "  [69, 79, 37],\n",
      "  [58, 29, 49],\n",
      "  [98, 34, 83],\n",
      "  [4, 30, 84],\n",
      "  [52, 20, 95]]]\n"
     ]
    }
   ],
   "source": [
    "import random, pprint\n",
    "a = [[random.randint(1, 100) for j in range(3)] for i in range(10)]\n",
    "print(\"a:\"); pprint.pprint(a); print()\n",
    "pprint.pprint([sorted(a, key=lambda x:x[i]) for i in range(3)])"
   ]
  },
  {
   "cell_type": "code",
   "execution_count": 167,
   "metadata": {},
   "outputs": [
    {
     "data": {
      "text/plain": [
       "[[3, 8, 20],\n",
       " [58, 14, 9],\n",
       " [38, 35, 33],\n",
       " [43, 47, 21],\n",
       " [4, 30, 84],\n",
       " [58, 29, 49],\n",
       " [52, 20, 95],\n",
       " [51, 93, 36],\n",
       " [69, 79, 37],\n",
       " [98, 34, 83]]"
      ]
     },
     "execution_count": 167,
     "metadata": {},
     "output_type": "execute_result"
    }
   ],
   "source": [
    "b = sorted(a, key=lambda x:x[0]+x[1]+x[2])\n",
    "b"
   ]
  },
  {
   "cell_type": "markdown",
   "metadata": {},
   "source": [
    "#### classのソート"
   ]
  },
  {
   "cell_type": "code",
   "execution_count": 171,
   "metadata": {},
   "outputs": [
    {
     "name": "stdout",
     "output_type": "stream",
     "text": [
      "[83, 89, 12, 65, 96, 9, 82, 93, 53, 72]\n",
      "3\n",
      "9\n",
      "2\n",
      "5\n",
      "6\n",
      "9\n",
      "2\n",
      "3\n",
      "3\n",
      "2\n",
      "[9, 12, 53, 65, 72, 82, 83, 89, 93, 96]\n",
      "[12, 82, 72, 83, 93, 53, 65, 96, 89, 9]\n"
     ]
    }
   ],
   "source": [
    "class hoge(object):\n",
    "    def __init__(self, n):\n",
    "        self.num = n\n",
    "    def fuga(self, m=10):\n",
    "        print(self.num % m)\n",
    "        return self.num % m\n",
    "    \n",
    "a = [hoge(random.randint(1, 100)) for i in range(10)]\n",
    "print([h.num for h in a])\n",
    "\n",
    "b = sorted(a, key=lambda x:x.num)\n",
    "c = sorted(a, key=lambda x:x.fuga())\n",
    "print([h.num for h in b])\n",
    "print([h.num for h in c])"
   ]
  },
  {
   "cell_type": "code",
   "execution_count": 176,
   "metadata": {},
   "outputs": [
    {
     "data": {
      "text/plain": [
       "['pathpathhoge_fuga_01_00.py',\n",
       " 'pathpathhoge_fuga_02_01.py',\n",
       " 'pathpathhoge_fuga_03_02.py',\n",
       " 'pathpathhoge_fuga_04_03.py',\n",
       " 'pathpathhoge_fuga_05_04.py',\n",
       " 'pathpathhoge_fuga_06_05.py',\n",
       " 'pathpathhoge_fuga_07_06.py',\n",
       " 'pathpathhoge_fuga_08_07.py',\n",
       " 'pathpathhoge_fuga_09_08.py',\n",
       " 'pathpathhoge_fuga_10_09.py']"
      ]
     },
     "execution_count": 176,
     "metadata": {},
     "output_type": "execute_result"
    }
   ],
   "source": [
    "fname = lambda n1, n2: \"hoge_fuga_%02d_%02d.py\"%(n1, n2)\n",
    "[\"pathpath\" + fname(i, j) for i, j in zip(range(1, 11), range(10))]"
   ]
  },
  {
   "cell_type": "markdown",
   "metadata": {},
   "source": [
    "### 変数の保存"
   ]
  },
  {
   "cell_type": "markdown",
   "metadata": {},
   "source": [
    "pythonではlistやdictなどの変数を保存するための機構が存在する．"
   ]
  },
  {
   "cell_type": "markdown",
   "metadata": {},
   "source": [
    "保存するデータ"
   ]
  },
  {
   "cell_type": "code",
   "execution_count": 91,
   "metadata": {},
   "outputs": [
    {
     "data": {
      "text/plain": [
       "{'Member': ['Yamazaki',\n",
       "  'Nagahama',\n",
       "  'Arnold',\n",
       "  'Matsumoto',\n",
       "  'Kamal',\n",
       "  'Koishihara',\n",
       "  'Shimakawa',\n",
       "  'Baku',\n",
       "  'Sano',\n",
       "  'Tanaka',\n",
       "  'Tsuda',\n",
       "  'Matsuda',\n",
       "  'Demura',\n",
       "  'Higashide',\n",
       "  'Kawagoshi',\n",
       "  'Nakajima',\n",
       "  'Nogami'],\n",
       " 'Robot': ['HIRO016',\n",
       "  'HIRO023',\n",
       "  'Baxter',\n",
       "  'HSR',\n",
       "  'icart-mini',\n",
       "  'Roomba',\n",
       "  'NAOs'],\n",
       " 'Room': [410, 406, 405, 103, 108]}"
      ]
     },
     "execution_count": 91,
     "metadata": {},
     "output_type": "execute_result"
    }
   ],
   "source": [
    "data = {\n",
    "    \"Member\": [\"Yamazaki\", \"Nagahama\", \"Arnold\",\n",
    "                \"Matsumoto\",\n",
    "                \"Kamal\", \"Koishihara\", \"Shimakawa\",\n",
    "                \"Baku\", \"Sano\", \"Tanaka\", \"Tsuda\", \"Matsuda\",\n",
    "                \"Demura\", \"Higashide\", \"Kawagoshi\", \"Nakajima\", \"Nogami\"\n",
    "               ],\n",
    "    \"Robot\": [\"HIRO016\", \"HIRO023\", \"Baxter\", \"HSR\", \"icart-mini\", \"Roomba\",\"NAOs\"],\n",
    "    \"Room\": [410, 406, 405, 103, 108],\n",
    "    }\n",
    "data"
   ]
  },
  {
   "cell_type": "markdown",
   "metadata": {},
   "source": [
    "#### jsonによる書出しと読込み"
   ]
  },
  {
   "cell_type": "code",
   "execution_count": 180,
   "metadata": {
    "scrolled": true
   },
   "outputs": [
    {
     "name": "stdout",
     "output_type": "stream",
     "text": [
      "{'Member': ['Yamazaki', 'Nagahama', 'Arnold', 'Matsumoto', 'Kamal', 'Koishihara', 'Shimakawa', 'Baku', 'Sano', 'Tanaka', 'Tsuda', 'Matsuda', 'Demura', 'Higashide', 'Kawagoshi', 'Nakajima', 'Nogami'], 'Robot': ['HIRO016', 'HIRO023', 'Baxter', 'HSR', 'icart-mini', 'Roomba', 'NAOs', 'nekonote'], 'Room': [410, 406, 405, 103, 108]}\n"
     ]
    }
   ],
   "source": [
    "import json\n",
    "\n",
    "# 書出し\n",
    "#with open(\"json_sample.json\", \"w\") as f:\n",
    "#    json.dump(data, f, ensure_ascii=False, indent=4, sort_keys=True, separators=(',', ': '))\n",
    "    \n",
    "# 読込み\n",
    "with open(\"json_sample.json\", \"r\") as f:\n",
    "    json_data = json.load(f)\n",
    "print(json_data)"
   ]
  },
  {
   "cell_type": "markdown",
   "metadata": {},
   "source": [
    "#### pickleによる書出しと読込み"
   ]
  },
  {
   "cell_type": "code",
   "execution_count": 177,
   "metadata": {},
   "outputs": [
    {
     "name": "stdout",
     "output_type": "stream",
     "text": [
      "{'研究室メンバー': ['Yamazaki', 'Nagahama', 'Arnold', 'Matsumoto', 'Kamal', 'Koishihara', 'Shimakawa', 'Baku', 'Sano', 'Tanaka', 'Tsuda', 'Matsuda', 'Demura', 'Higashide', 'Kawagoshi', 'Nakajima', 'Nogami'], 'ロボット': ['HIRO016', 'HIRO023', 'Baxter', 'HSR', 'icart-mini', 'Roomba', 'NAOs'], 'Room': [410, 406, 405, 103, 108]}\n",
      "{'研究室メンバー': ['Yamazaki', 'Nagahama', 'Arnold', 'Matsumoto', 'Kamal', 'Koishihara', 'Shimakawa', 'Baku', 'Sano', 'Tanaka', 'Tsuda', 'Matsuda', 'Demura', 'Higashide', 'Kawagoshi', 'Nakajima', 'Nogami'], 'ロボット': ['HIRO016', 'HIRO023', 'Baxter', 'HSR', 'icart-mini', 'Roomba', 'NAOs'], 'Room': [410, 406, 405, 103, 108]}\n"
     ]
    }
   ],
   "source": [
    "import pickle\n",
    "print(data)\n",
    "\n",
    "# 書出し\n",
    "with open(\"pickle_sample.pickle\", \"wb\") as f:\n",
    "    pickle.dump(data, f)\n",
    "    \n",
    "# 読込み\n",
    "with open(\"pickle_sample.pickle\", \"rb\") as f:\n",
    "    pickle_data = pickle.load(f)\n",
    "print(pickle_data)"
   ]
  },
  {
   "cell_type": "markdown",
   "metadata": {},
   "source": [
    "変数を保存する方法\n",
    "- pickle\n",
    "    - メリット：  \n",
    "        基本的にどんな型の変数でも保存可能  \n",
    "        バイナリ化するので軽い？\n",
    "    - デメリット：\n",
    "        遅い  \n",
    "        バイナリ化されるので，保存ファイルを見ても何もわからない\n",
    "- json\n",
    "    - メリット：  \n",
    "        保存ファイルがとても見やすい  \n",
    "    - デメリット：  \n",
    "        標準では保存できる型が限られる．（辞書、リスト、文字列、整数、浮動小数点数、True、False、None）  "
   ]
  },
  {
   "cell_type": "markdown",
   "metadata": {},
   "source": [
    "### まとめ"
   ]
  },
  {
   "cell_type": "markdown",
   "metadata": {},
   "source": [
    "- pythonではlistやdictが非常に便利である．\n",
    "    - 型を気にしなくていい\n",
    "    - 長さは可変\n",
    "- 内包表現によりlistやdictが簡単に記述でき，高速に処理ができる\n",
    "    - 可読性の低下に注意\n",
    "- Lambda式+高階関数により，listやdictの全体的な処理を簡潔に記述できる\n",
    "    - map, reduce, filter\n",
    "    - sorted\n",
    "- pythonでは変数の保存＆読込みが簡単にできる\n",
    "    - json\n",
    "        - 保存ファイルが読みやすい\n",
    "    - pickle\n",
    "        - 基本的にどんな変数でも保存可能"
   ]
  },
  {
   "cell_type": "markdown",
   "metadata": {},
   "source": [
    "---"
   ]
  },
  {
   "cell_type": "markdown",
   "metadata": {},
   "source": [
    "## デバッグ"
   ]
  },
  {
   "cell_type": "markdown",
   "metadata": {},
   "source": [
    "### printデバッグ"
   ]
  },
  {
   "cell_type": "markdown",
   "metadata": {},
   "source": [
    "多くの人がやっているであろうデバッグ方法  \n",
    "とりあえずデバッグといえばこの方法が使用されている気がする  \n",
    "pythonでprintデバッグをする場合は，reprを使用した方がよりわかりやすくなる"
   ]
  },
  {
   "cell_type": "code",
   "execution_count": 92,
   "metadata": {},
   "outputs": [
    {
     "name": "stdout",
     "output_type": "stream",
     "text": [
      "['1', '2', '3'] [1, 2, 3]\n",
      "['1', '2', '3'] [1, 2, 3]\n"
     ]
    }
   ],
   "source": [
    "a = [\"1\", \"2\", \"3\"]\n",
    "b = [1, 2, 3]\n",
    "print(a, b)\n",
    "print(repr(a), repr(b))"
   ]
  },
  {
   "cell_type": "markdown",
   "metadata": {},
   "source": [
    "### 例外処理"
   ]
  },
  {
   "cell_type": "markdown",
   "metadata": {},
   "source": [
    "例外処理を覚えておくと，バグフィックスに非常に役に立つ．  \n",
    "あと，予め例外処理がしっかりとなされているライブラリなんかを使うときはこの辺を知っておかないと，エラーで停止が頻発することが予想される．  \n",
    "本気で入力に対して正しい出力を計算するプログラムを書こうとすると大半の部分が例外処理になる． \n",
    "\n",
    "以下でも書いてあるが，この例外処理がしっかりと行われているので，ライブラリでできることはライブラリを使ってやったがいい．"
   ]
  },
  {
   "cell_type": "markdown",
   "metadata": {},
   "source": [
    "#### エラーを検出する"
   ]
  },
  {
   "cell_type": "code",
   "execution_count": 65,
   "metadata": {},
   "outputs": [
    {
     "name": "stdout",
     "output_type": "stream",
     "text": [
      "3\n",
      "33\n",
      "計算できない\n"
     ]
    }
   ],
   "source": [
    "def exception_sample():\n",
    "    a = 1\n",
    "    b = 2\n",
    "    c = \"3\"\n",
    "    try:\n",
    "        print(a + b)\n",
    "        print(b * c)\n",
    "        print(c + a)\n",
    "    except:\n",
    "        print(\"計算できない\")\n",
    "        \n",
    "exception_sample()"
   ]
  },
  {
   "cell_type": "markdown",
   "metadata": {},
   "source": [
    "ライブラリを使用しているときにエラーでプログラムが終了するのは大体この例外処理によるものである．  \n",
    "opencvのmat処理やrosのtf関連の処理で頻発してると思われる．\n",
    "これらは適切に処理してやることで，不本意なプログラム停止は防ぐことができる．\n",
    "\n",
    "例外処理は不本意なプログラム停止を発生させることがあるが，これのおかげでデバッグがやりやすくなる．\n",
    "例外処理はプログラムがのどこで例外が発生は発生し，その内容がどのようなものだったのかという情報（スタックトレース）を含んでいる．  \n",
    "これを使うことで，自分のプログラムのどの部分で良くない処理をしていたのかが理解できる．\n",
    "これらの細かい内容はpdbのときに説明する．"
   ]
  },
  {
   "cell_type": "markdown",
   "metadata": {},
   "source": [
    "例外処理のキーワードとしてpythonでは，  \n",
    "try, except, raise, finally  \n",
    "というキーワードが挙げられる．\n",
    "細かい話は今回は省略するが，これらの処理をうまく使うことで例外処理を適切に行うことができる．  \n",
    "実際では我々のプログラムでは，使用するライブラリが吐き出してくる例外をうまく処理すればよいので，tryとexceptを覚えておけばok.\n",
    "c++でも例外処理があるので，pythonで例外処理についてある程度理解しているとC++にも応用が効くかもしれない．"
   ]
  },
  {
   "cell_type": "markdown",
   "metadata": {},
   "source": [
    "### pdb"
   ]
  },
  {
   "cell_type": "markdown",
   "metadata": {},
   "source": [
    "pythonは標準でpdbというデバッガを用意している．  \n",
    "デバッガでできることはブレークポイント，ステップ実行，ステップアウト，変数確認が挙げられる．  \n",
    "pdbのチートシートはいろいろあるので（[例](https://raw.githubusercontent.com/nblock/pdb-cheatsheet/master/pdb-cheatsheet.png \"cheatsheet\")），\n",
    "慣れるまではそれを参照しながらデバッグをしていくと良い．"
   ]
  },
  {
   "cell_type": "code",
   "execution_count": 62,
   "metadata": {},
   "outputs": [
    {
     "name": "stdout",
     "output_type": "stream",
     "text": [
      "> <ipython-input-62-c3244086c071>(4)debug_sample()\n",
      "-> print(1 + a)\n",
      "(Pdb) c\n",
      "2\n",
      "0\n",
      "1\n",
      "1.0\n",
      "> <ipython-input-62-c3244086c071>(4)debug_sample()\n",
      "-> print(1 + a)\n",
      "(Pdb) c\n",
      "1\n",
      "1\n",
      "0\n"
     ]
    },
    {
     "ename": "ZeroDivisionError",
     "evalue": "division by zero",
     "output_type": "error",
     "traceback": [
      "\u001b[0;31m---------------------------------------------------------------------------\u001b[0m",
      "\u001b[0;31mZeroDivisionError\u001b[0m                         Traceback (most recent call last)",
      "\u001b[0;32m<ipython-input-62-c3244086c071>\u001b[0m in \u001b[0;36m<module>\u001b[0;34m()\u001b[0m\n\u001b[1;32m      8\u001b[0m \u001b[1;33m\u001b[0m\u001b[0m\n\u001b[1;32m      9\u001b[0m \u001b[0mdebug_sample\u001b[0m\u001b[1;33m(\u001b[0m\u001b[1;36m1\u001b[0m\u001b[1;33m)\u001b[0m\u001b[1;33m\u001b[0m\u001b[0m\n\u001b[0;32m---> 10\u001b[0;31m \u001b[0mdebug_sample\u001b[0m\u001b[1;33m(\u001b[0m\u001b[1;36m0\u001b[0m\u001b[1;33m)\u001b[0m\u001b[1;33m\u001b[0m\u001b[0m\n\u001b[0m",
      "\u001b[0;32m<ipython-input-62-c3244086c071>\u001b[0m in \u001b[0;36mdebug_sample\u001b[0;34m(a)\u001b[0m\n\u001b[1;32m      2\u001b[0m \u001b[1;32mdef\u001b[0m \u001b[0mdebug_sample\u001b[0m\u001b[1;33m(\u001b[0m\u001b[0ma\u001b[0m\u001b[1;33m)\u001b[0m\u001b[1;33m:\u001b[0m\u001b[1;33m\u001b[0m\u001b[0m\n\u001b[1;32m      3\u001b[0m     \u001b[0mpdb\u001b[0m\u001b[1;33m.\u001b[0m\u001b[0mset_trace\u001b[0m\u001b[1;33m(\u001b[0m\u001b[1;33m)\u001b[0m\u001b[1;33m\u001b[0m\u001b[0m\n\u001b[0;32m----> 4\u001b[0;31m     \u001b[0mprint\u001b[0m\u001b[1;33m(\u001b[0m\u001b[1;36m1\u001b[0m \u001b[1;33m+\u001b[0m \u001b[0ma\u001b[0m\u001b[1;33m)\u001b[0m\u001b[1;33m\u001b[0m\u001b[0m\n\u001b[0m\u001b[1;32m      5\u001b[0m     \u001b[0mprint\u001b[0m\u001b[1;33m(\u001b[0m\u001b[1;36m1\u001b[0m \u001b[1;33m-\u001b[0m \u001b[0ma\u001b[0m\u001b[1;33m)\u001b[0m\u001b[1;33m\u001b[0m\u001b[0m\n\u001b[1;32m      6\u001b[0m     \u001b[0mprint\u001b[0m\u001b[1;33m(\u001b[0m\u001b[1;36m1\u001b[0m \u001b[1;33m*\u001b[0m \u001b[0ma\u001b[0m\u001b[1;33m)\u001b[0m\u001b[1;33m\u001b[0m\u001b[0m\n",
      "\u001b[0;31mZeroDivisionError\u001b[0m: division by zero"
     ]
    }
   ],
   "source": [
    "import pdb\n",
    "def debug_sample(a):\n",
    "    pdb.set_trace()\n",
    "    print(1 + a)\n",
    "    print(1 - a)\n",
    "    print(1 * a)\n",
    "    print(1 / a)\n",
    "\n",
    "debug_sample(1)\n",
    "debug_sample(0)"
   ]
  },
  {
   "cell_type": "markdown",
   "metadata": {},
   "source": [
    "### テスト"
   ]
  },
  {
   "cell_type": "markdown",
   "metadata": {},
   "source": [
    "pythonではコードのテストツールが用意されており，書いたコードのテストを行うことができる．[Unittest](http://docs.python.jp/2/library/unittest.html \"#unittest.TestCase.assertRaises\")"
   ]
  },
  {
   "cell_type": "markdown",
   "metadata": {},
   "source": [
    "### まとめ"
   ]
  },
  {
   "cell_type": "markdown",
   "metadata": {},
   "source": [
    "- printデバッグ\n",
    "    - 一番簡単なデバッグ方法\n",
    "    - 変数を表示するときには，reprを使用するとよい（文字列と数値の区別）\n",
    "- 例外処理\n",
    "    - 例外処理によりプログラムで異常な処理を行った時の対処をすることができる．\n",
    "    - 例外をうまく処理しないとプログラムが終了するのが，きちんと対応すると役に立つ．\n",
    "    - 例外処理によってデバッグがしやすくなる．（スタックトレースとか）\n",
    "- pdb\n",
    "    - python標準装備のデバッガ\n",
    "    - ブレークポイント，ステップ実行，ステップアウト，変数確認\n",
    "    - 基本的にはgdbと同じ\n",
    "- テスト\n",
    "    - [Unittest](http://docs.python.jp/2/library/unittest.html \"#unittest.TestCase.assertRaises\")"
   ]
  },
  {
   "cell_type": "markdown",
   "metadata": {},
   "source": [
    "---"
   ]
  },
  {
   "cell_type": "markdown",
   "metadata": {},
   "source": [
    "## 研究室でよく使用するライブラリたち"
   ]
  },
  {
   "cell_type": "markdown",
   "metadata": {},
   "source": [
    "我々の研究室では，様々な計算を行う必要があるが，それらの実装を助けてくれるライブラリがpythonにはたくさんある．\n",
    "科学計算を行う人達には必須のライブラリであるscipyファミリーが中心になっている．\n",
    "あとはビジョンを扱うなら，cv2だし，ROSを使うならrospyとか，tfとかがある．\n",
    "\n",
    "matplotlibは非常に強力なツールなので覚えておくと，色々と役に立つ．\n",
    "ただ少しお作法が多い気がするので，ラップしてくれてるライブラリ(seabornなど)を使用するのも有り．\n",
    "\n",
    "pandas+matplotlibをマスターすることで，excelとは完全におさらばできる！\n",
    "\n",
    "自分でいろんな計算を実装しようと思うのもいいが，基本的にはこういったライブラリを使用する方がメリットが多い（私は趣味でやってます）．  \n",
    "慣れないうちはこういったライブラリを使うのに抵抗があるかもしれないが，これらのライブラリは多くの人が使用し，デバッグ，最適化されている．  \n",
    "それらのライブラリを使って計算して，結果がうまく出ない場合は，基本的には自分が間違っていることになるので全て自実装でやるよりも問題発見も早くなると思われる．\n",
    "自分で実装していた場合，計算がミスっているのか，データが間違っているのか，\n",
    "そもそもこの計算ではうまく結果が出ないのかがはっきりしなく，\n",
    "うまくいかないほんとの原因がどこにあるのか特定が大変になるので，pythonではできるだけライブラリに頼る姿勢がいいと思う．"
   ]
  },
  {
   "cell_type": "markdown",
   "metadata": {},
   "source": [
    "### numpy"
   ]
  },
  {
   "cell_type": "markdown",
   "metadata": {},
   "source": [
    "pythonを使って数値計算をする時の基本ライブラリである．\n",
    "numpy.arrayというオブジェクトを提供してくれ，基本的にはこのオブジェクトを使って何かの計算をするというようなライブラリである．  \n",
    "numpy.arrayはリストに似たiterableなオブジェクトであるが，メモリの配置がリストとは違い，順番に配置されるので，\n",
    "イテレーションがリストのそれよりも格段に早くなる．  \n",
    "しかし，繰り返し計算を行う場合，for文を使用して各要素にアクセスしていると非常に時間がかかる．\n",
    "そのような場合，うまく同様な行列計算として表現してやると，計算が非常に高速に実行される．（恐らく行列計算についてより最適化が行われている）"
   ]
  },
  {
   "cell_type": "markdown",
   "metadata": {},
   "source": [
    "### scipy"
   ]
  },
  {
   "cell_type": "markdown",
   "metadata": {},
   "source": [
    "scipyはnumpy.arrayを使った科学計算のライブラリである．\n",
    "統計，信号処理，画像処理，...など，研究室で必要そうな計算はほとんど実装されていると思われる．\n",
    "scikit-learnもここに含めるならば，パターン認識もこれに含まれるので研究室で必要な計算はほとんどライブラリが用意されていることになる．\n",
    "それらをうまく使いこなせれば，ほんとに必要な部分のコーディングに時間がさけるのでおすすめ．\n",
    "scipyはほんとにいろんな計算が実装されているので，漁って見るのも面白いと思うよ．"
   ]
  },
  {
   "cell_type": "markdown",
   "metadata": {},
   "source": [
    "### cv2"
   ]
  },
  {
   "cell_type": "markdown",
   "metadata": {
    "collapsed": true
   },
   "source": [
    "opencvのpythonラッパー．意外と使える．\n",
    "基本的なAPIについては実装されているみたい．(確か松田情報だが，一部未実装の関数もいるらしい)  \n",
    "cv2では画像はnumpy.arrayで表現される．なので，numpyがある程度使えると非常にとっつきやすいものになる．  \n",
    "画像処理をオンラインで行いたい場合は，C++でコーディングすることをおすすめする．\n",
    "cv2はあくまで実験結果をオフラインで何かするというときに使うのがよい．  \n",
    "あとcv2のimshowを使用するよりも，matplotlibのimshowを使うことをおすすめする．（カラーチャンネルの順番が違うので注意）"
   ]
  },
  {
   "cell_type": "markdown",
   "metadata": {},
   "source": [
    "### matplotlib"
   ]
  },
  {
   "cell_type": "markdown",
   "metadata": {
    "collapsed": true
   },
   "source": [
    "グラフ作成ライブラリ  \n",
    "主にnumpy.arrayを入力して，様々なグラフを出力してくれる．  \n",
    "色々と癖があるので，慣れるまでに結構時間がかかるかも．\n",
    "ただ非常に高機能ではあるので，使いこなせればかなりな武器になるのは間違いない．  \n",
    "gnuplotというツールもあるらしいが，pythonをつかうならmatplotlibでしょ．"
   ]
  },
  {
   "cell_type": "markdown",
   "metadata": {},
   "source": [
    "### pandas"
   ]
  },
  {
   "cell_type": "markdown",
   "metadata": {
    "collapsed": true
   },
   "source": [
    "データベースを取り合うライブラリ  \n",
    "excelの行列みたいなデータを作成できるし，csvとして出力したりもできる．  \n",
    "データに様々なクエリがあったり，次元が多い場合に整理するのに便利だし，わかりやすくなるのではないか．  \n",
    "pandas.DataFrameはnumpy.arrayと仲がいいらしい．  \n",
    "上でも書いたが，pandas+matplotlibを使いこなせれば，excelの表計算には完全に勝利できる！．"
   ]
  },
  {
   "cell_type": "markdown",
   "metadata": {},
   "source": [
    "### 画像に対して，RGBについてのK-meansを行った例（cv2, sklearn, numpy, matplotlib）  \n",
    "Linux環境で試してください．"
   ]
  },
  {
   "cell_type": "code",
   "execution_count": 181,
   "metadata": {},
   "outputs": [
    {
     "ename": "ModuleNotFoundError",
     "evalue": "No module named 'cv2'",
     "output_type": "error",
     "traceback": [
      "\u001b[0;31m---------------------------------------------------------------------------\u001b[0m",
      "\u001b[0;31mModuleNotFoundError\u001b[0m                       Traceback (most recent call last)",
      "\u001b[0;32m<ipython-input-181-079832194bed>\u001b[0m in \u001b[0;36m<module>\u001b[0;34m()\u001b[0m\n\u001b[1;32m      2\u001b[0m \u001b[1;32mimport\u001b[0m \u001b[0mnumpy\u001b[0m \u001b[1;32mas\u001b[0m \u001b[0mnp\u001b[0m\u001b[1;33m\u001b[0m\u001b[0m\n\u001b[1;32m      3\u001b[0m \u001b[1;32mfrom\u001b[0m \u001b[0msklearn\u001b[0m\u001b[1;33m.\u001b[0m\u001b[0mcluster\u001b[0m \u001b[1;32mimport\u001b[0m \u001b[0mKMeans\u001b[0m\u001b[1;33m\u001b[0m\u001b[0m\n\u001b[0;32m----> 4\u001b[0;31m \u001b[1;32mimport\u001b[0m \u001b[0mcv2\u001b[0m\u001b[1;33m\u001b[0m\u001b[0m\n\u001b[0m\u001b[1;32m      5\u001b[0m \u001b[0mget_ipython\u001b[0m\u001b[1;33m(\u001b[0m\u001b[1;33m)\u001b[0m\u001b[1;33m.\u001b[0m\u001b[0mmagic\u001b[0m\u001b[1;33m(\u001b[0m\u001b[1;34m'matplotlib inline'\u001b[0m\u001b[1;33m)\u001b[0m\u001b[1;33m\u001b[0m\u001b[0m\n\u001b[1;32m      6\u001b[0m \u001b[1;33m\u001b[0m\u001b[0m\n",
      "\u001b[0;31mModuleNotFoundError\u001b[0m: No module named 'cv2'"
     ]
    }
   ],
   "source": [
    "import matplotlib.pyplot as plt\n",
    "import numpy as np\n",
    "from sklearn.cluster import KMeans\n",
    "import cv2\n",
    "%matplotlib inline\n",
    "\n",
    "img = cv2.imread(\"画像データ\")\n",
    "img = cv2.cvtColor(img, cv2.COLOR_BGR2RGB)\n",
    "\n",
    "k = 5\n",
    "km = KMeans(n_clusters=k, random_state=0).fit(img.reshape((640*480, 3)))\n",
    "km_img = np.copy(img.reshape((640*480, 3)))\n",
    "\n",
    "for i in range(k): km_img[km.labels_ == i] = km.cluster_centers_[i]\n",
    "plt.subplot(121)\n",
    "plt.imshow(img)\n",
    "plt.subplot(122)\n",
    "plt.imshow(km_img.reshape(img.shape))"
   ]
  },
  {
   "cell_type": "markdown",
   "metadata": {},
   "source": [
    "## クロージャ？"
   ]
  },
  {
   "cell_type": "code",
   "execution_count": 93,
   "metadata": {},
   "outputs": [
    {
     "name": "stdout",
     "output_type": "stream",
     "text": [
      "1\n",
      "1\n",
      "2\n",
      "3\n",
      "5\n",
      "8\n",
      "13\n",
      "21\n",
      "34\n",
      "55\n",
      "89\n",
      "144\n",
      "233\n",
      "377\n",
      "610\n",
      "987\n",
      "1597\n",
      "2584\n",
      "4181\n",
      "6765\n",
      "10946\n",
      "17711\n",
      "28657\n",
      "46368\n",
      "75025\n",
      "121393\n",
      "196418\n",
      "317811\n",
      "514229\n",
      "832040\n",
      "1346269\n",
      "2178309\n",
      "3524578\n",
      "5702887\n",
      "9227465\n",
      "14930352\n",
      "24157817\n",
      "39088169\n",
      "63245986\n",
      "102334155\n",
      "165580141\n",
      "267914296\n",
      "433494437\n",
      "701408733\n",
      "1134903170\n",
      "1836311903\n",
      "2971215073\n",
      "4807526976\n",
      "7778742049\n",
      "12586269025\n",
      "20365011074\n",
      "32951280099\n",
      "53316291173\n",
      "86267571272\n",
      "139583862445\n",
      "225851433717\n",
      "365435296162\n",
      "591286729879\n",
      "956722026041\n",
      "1548008755920\n",
      "2504730781961\n",
      "4052739537881\n",
      "6557470319842\n",
      "10610209857723\n",
      "17167680177565\n",
      "27777890035288\n",
      "44945570212853\n",
      "72723460248141\n",
      "117669030460994\n",
      "190392490709135\n",
      "308061521170129\n",
      "498454011879264\n",
      "806515533049393\n",
      "1304969544928657\n",
      "2111485077978050\n",
      "3416454622906707\n",
      "5527939700884757\n",
      "8944394323791464\n",
      "14472334024676221\n",
      "23416728348467685\n",
      "37889062373143906\n",
      "61305790721611591\n",
      "99194853094755497\n",
      "160500643816367088\n",
      "259695496911122585\n",
      "420196140727489673\n",
      "679891637638612258\n",
      "1100087778366101931\n",
      "1779979416004714189\n",
      "2880067194370816120\n",
      "4660046610375530309\n",
      "7540113804746346429\n",
      "12200160415121876738\n",
      "19740274219868223167\n",
      "31940434634990099905\n",
      "51680708854858323072\n",
      "83621143489848422977\n",
      "135301852344706746049\n",
      "218922995834555169026\n",
      "354224848179261915075\n"
     ]
    }
   ],
   "source": [
    "def fibonacci_func():\n",
    "    \"\"\"フィボナッチ数列を返す関数を返す メモイズ機能つき\"\"\"\n",
    "    table = {}  # 計算済みのフィボナッチ数列を格納するテーブル\n",
    "\n",
    "    def fibonacci(n):\n",
    "        # 計算したことのある数値についてはテーブルを参照して返す\n",
    "        if n in table:\n",
    "            return table[n]\n",
    "\n",
    "        # 計算したことのない数値についてはフィボナッチ数列の定義どおり計算\n",
    "        if n < 2:\n",
    "            return 1\n",
    "        table[n] = fibonacci(n - 1) + fibonacci(n - 2)\n",
    "        return table[n]\n",
    "\n",
    "    return fibonacci\n",
    "\n",
    "for i in range(100):\n",
    "    fib = fibonacci_func()\n",
    "    print(fib(i))"
   ]
  }
 ],
 "metadata": {
  "kernelspec": {
   "display_name": "Python 3",
   "language": "python",
   "name": "python3"
  },
  "language_info": {
   "codemirror_mode": {
    "name": "ipython",
    "version": 3
   },
   "file_extension": ".py",
   "mimetype": "text/x-python",
   "name": "python",
   "nbconvert_exporter": "python",
   "pygments_lexer": "ipython3",
   "version": "3.6.4"
  }
 },
 "nbformat": 4,
 "nbformat_minor": 2
}
